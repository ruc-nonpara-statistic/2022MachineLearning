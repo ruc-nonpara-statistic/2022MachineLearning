{
 "cells": [
  {
   "cell_type": "markdown",
   "metadata": {
    "toc": true
   },
   "source": [
    "<h1>Table of Contents<span class=\"tocSkip\"></span></h1>\n",
    "<div class=\"toc\"><ul class=\"toc-item\"><li><span><a href=\"#第四周作业\" data-toc-modified-id=\"第四周作业-1\"><span class=\"toc-item-num\">1&nbsp;&nbsp;</span>第四周作业</a></span><ul class=\"toc-item\"><li><span><a href=\"#Part1\" data-toc-modified-id=\"Part1-1.1\"><span class=\"toc-item-num\">1.1&nbsp;&nbsp;</span>Part1</a></span></li><li><span><a href=\"#part2\" data-toc-modified-id=\"part2-1.2\"><span class=\"toc-item-num\">1.2&nbsp;&nbsp;</span>part2</a></span></li><li><span><a href=\"#part3\" data-toc-modified-id=\"part3-1.3\"><span class=\"toc-item-num\">1.3&nbsp;&nbsp;</span>part3</a></span></li></ul></li></ul></div>"
   ]
  },
  {
   "cell_type": "markdown",
   "metadata": {},
   "source": [
    "# 第四周作业\n"
   ]
  },
  {
   "cell_type": "markdown",
   "metadata": {},
   "source": [
    "## Part1 "
   ]
  },
  {
   "cell_type": "markdown",
   "metadata": {},
   "source": [
    "\n",
    "&emsp;&emsp;对于数据集auto，进行以下任务：\n"
   ]
  },
  {
   "cell_type": "markdown",
   "metadata": {},
   "source": [
    "* (c) 建立一个二元变量，每加仑里程量($mpg01$)，1表示每加仑汽油该型号撤所拍里程数($mpg$)在$\\frac{3}{4}$分位数以上，0表示每加仑汽油该型号车所跑里程数($mpg$)在$\\frac{3}{4}$分位数以下。将数据集按照留出法随机分为训练集(比例0.8)和测试集（比例0.2）,对于函数$P(mpg01 = 1) = \\frac{exp\\left\\{3.85-0.01*weight\\right\\}}{1+exp\\left\\{3.85-0.01*weight\\right\\}}$编写程序估计0-1损失下的泛化误差；"
   ]
  },
  {
   "cell_type": "markdown",
   "metadata": {},
   "source": [
    "* (d) 将数据集按照分层等比例分按照训练集(比例0.8)和测试集(比例0.2),对于函数$P(mpg01= 1)= \\frac{exp\\left\\{3.85-0.01*weight\\right\\}}{1+exp\\left\\{3.85-0.01*weight\\right\\}} $编写程序估计0-1损失下的泛化误差"
   ]
  },
  {
   "cell_type": "markdown",
   "metadata": {},
   "source": [
    "* (e) 根据以上实验，结合教材，分析分层抽样和不同的抽样方式对泛化误差的影响"
   ]
  },
  {
   "cell_type": "markdown",
   "metadata": {},
   "source": [
    "* (f) 数据集包含1000个样本，其中500个正例，500个反例，将其划分为包含70%样本的训练集和30%样本的测试集用于留出法评估，试估算共有多少种划分方式"
   ]
  },
  {
   "cell_type": "markdown",
   "metadata": {},
   "source": [
    "## part2"
   ]
  },
  {
   "cell_type": "markdown",
   "metadata": {},
   "source": [
    " PPT内思考题"
   ]
  },
  {
   "cell_type": "markdown",
   "metadata": {},
   "source": [
    "![](2.1.png)"
   ]
  },
  {
   "cell_type": "markdown",
   "metadata": {},
   "source": [
    "## part3"
   ]
  },
  {
   "attachments": {},
   "cell_type": "markdown",
   "metadata": {},
   "source": [
    "![](2.2.png)"
   ]
  },
  {
   "cell_type": "markdown",
   "metadata": {},
   "source": [
    "* (a) 参照例题数据，作ROC曲线和P-R曲线（要求自写代码绘制，函数为佳）"
   ]
  },
  {
   "cell_type": "markdown",
   "metadata": {},
   "source": [
    "* (b) 参照例题数据绘制均衡代价曲线$（注:cost_{01}=1,cost_{10} = 1）$。如果该数据是一个银行追查网络钓鱼攻击的一个学习器的训练数据，漏网的代价(FN)是误报代价(FP)的五倍$（cost_{01}=5,cost_{10} = 1）$，那么请绘制代价曲线。如果上述代价是3倍，代价曲线会怎么变化，请比较三种不同代价下的代价曲线有什么变化？ "
   ]
  },
  {
   "cell_type": "markdown",
   "metadata": {},
   "source": [
    "* (c) 如下数据是16次实验中的误分类结果，请比较测试误差率是否小于30%($\\epsilon \\leq 30%$)，实验中每次测试集$n = 10$的误分数量($mc$)如下，凭借这些数据使用$t$检验等于该算法的泛化误差给出判断。请给出检验问题的表述，计算统计量及其$p-value$,给出结论。"
   ]
  },
  {
   "cell_type": "markdown",
   "metadata": {},
   "source": [
    "![](2.3.png)"
   ]
  },
  {
   "cell_type": "markdown",
   "metadata": {},
   "source": [
    "ps: 这周作业由于发布时间较晚，延长至下周三（3月23日）22：00，另外同学们写作业的时候记得写一会快捷键保存一下，免得没保存，这是一个好习惯^-^"
   ]
  }
 ],
 "metadata": {
  "kernelspec": {
   "display_name": "Python 3",
   "language": "python",
   "name": "python3"
  },
  "language_info": {
   "codemirror_mode": {
    "name": "ipython",
    "version": 3
   },
   "file_extension": ".py",
   "mimetype": "text/x-python",
   "name": "python",
   "nbconvert_exporter": "python",
   "pygments_lexer": "ipython3",
   "version": "3.6.5"
  },
  "toc": {
   "base_numbering": 1,
   "nav_menu": {},
   "number_sections": true,
   "sideBar": true,
   "skip_h1_title": false,
   "title_cell": "Table of Contents",
   "title_sidebar": "Contents",
   "toc_cell": true,
   "toc_position": {
    "height": "calc(100% - 180px)",
    "left": "10px",
    "top": "150px",
    "width": "165px"
   },
   "toc_section_display": true,
   "toc_window_display": true
  }
 },
 "nbformat": 4,
 "nbformat_minor": 2
}
