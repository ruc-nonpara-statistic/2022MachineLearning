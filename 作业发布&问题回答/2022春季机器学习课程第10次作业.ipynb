{
 "cells": [
  {
   "cell_type": "markdown",
   "metadata": {},
   "source": [
    "# 第10周作业"
   ]
  },
  {
   "cell_type": "markdown",
   "metadata": {},
   "source": [
    "## part1 决策树构建"
   ]
  },
  {
   "cell_type": "markdown",
   "metadata": {},
   "source": [
    "### 代码填补\n",
    "\n",
    "请阅读决策树-Copy1.ipynb，其在绘制决策树以及决策树生成部分缺少以下两个函数，请阅读代码并填补空缺使其能够得到文档类似决策树"
   ]
  },
  {
   "cell_type": "code",
   "execution_count": null,
   "metadata": {},
   "outputs": [],
   "source": [
    "# 创建树, 样本集 特征 特征属性（0 离散， 1 连续）\n",
    "def createTree(dataSet, labels, labelProperty,minaddEnt = 0):\n",
    "    \"\"\"\n",
    "    :param dataSet: 样本集\n",
    "    :param labels: 样本特征标签\n",
    "    :param labelProperty: 特征值类型，1 连续， 0 离散\n",
    "    :param minaddEnt: 预剪枝设定增益阈值\n",
    "    :return: 字典形式储存的决策树结点\n",
    "    \"\"\"\n",
    "    classList = [example[-1] for example in dataSet]  # 类别向量\n",
    "    weightList = [example[-2] for example in dataSet]  # 权重向量\n",
    "    if classList.count(classList[0]) == len(classList):  # 如果只有一个类别，返回\n",
    "        totalWeiht = calcTotalWeight(dataSet,0,True)\n",
    "        return (classList[0], round(totalWeiht,1),0.0)\n",
    "    #totalWeight = calcTotalWeight(dataSet, 0, True)\n",
    "    if len(dataSet[0]) == 1:  # 如果所有特征都被遍历完了，返回出现次数最多的类别\n",
    "        return majorityCnt(classList)\n",
    "    bestFeat, bestPartValue = chooseBestFeatureToSplit(dataSet,\n",
    "                                                       labelProperty,minaddEnt)  # 最优分类特征的索引\n",
    "    if bestFeat == -1:  # 如果无法选出最优分类特征，返回出现次数最多的类别\n",
    "        return majorityCnt(classList, weightList)\n",
    "    if labelProperty[bestFeat] == 0:  # 对离散的特征\n",
    "        bestFeatLabel = labels[bestFeat]\n",
    "        myTree = {bestFeatLabel: {}}\n",
    "        labelsNew = copy.copy(labels)\n",
    "        labelPropertyNew = copy.copy(labelProperty)\n",
    "        del (labelsNew[bestFeat])  # 已经选择的特征不再参与分类\n",
    "        del (labelPropertyNew[bestFeat])\n",
    "        featValues = [example[bestFeat] for example in dataSet]\n",
    "        uniqueValue = set(featValues)  # 该特征包含的所有值\n",
    "        uniqueValue.discard('N')\n",
    "## 填空一，注意数据集在递归中的变化       \n",
    "        for value in uniqueValue:  # 对每个特征值，递归构建树\n",
    "\n",
    "        \n",
    "        \n",
    "        \n",
    "        \n",
    "        \n",
    "    else:  # 对连续的特征，不删除该特征，分别构建左子树和右子树\n",
    "        bestFeatLabel = labels[bestFeat] + '<' + str(bestPartValue)\n",
    "        myTree = {bestFeatLabel: {}}\n",
    "        subLabels = labels[:]\n",
    "        subLabelProperty = labelProperty[:]\n",
    "        # 构建左子树\n",
    "##填空二\n",
    "        \n",
    "        \n",
    "        \n",
    "        # 构建右子树\n",
    "##填空三\n",
    "\n",
    "\n",
    "\n",
    "\n",
    "\n",
    "    return myTree\n"
   ]
  },
  {
   "cell_type": "code",
   "execution_count": null,
   "metadata": {},
   "outputs": [],
   "source": [
    "#递归绘图\n",
    "def plotTree(myTree, parentPt, nodeTxt):\n",
    "    numLeafs = getNumLeafs(myTree)\n",
    "    depth = getTreeDepth(myTree)\n",
    "    firstStr = list(myTree.keys())[0]\n",
    "    cntrPt = (plotTree.xOff + (1 + float(numLeafs)) / 2.0 / plotTree.totalW,\n",
    "              plotTree.yOff)\n",
    "    plotMidText(cntrPt, parentPt, nodeTxt)\n",
    "    plotNode(firstStr, cntrPt, parentPt, decisionNode)\n",
    "    secondDict = myTree[firstStr]\n",
    "    plotTree.yOff = plotTree.yOff - 1.0 / plotTree.totalD\n",
    "    for key in secondDict.keys():\n",
    "        if type(secondDict[key]).__name__ == 'dict':\n",
    "##填空一，递归画树\n",
    "\n",
    "\n",
    "        else:\n",
    "            plotTree.xOff = plotTree.xOff + 1.0 / plotTree.totalW\n",
    "##填空二 ，到叶结点，绘制点及其标注\n",
    "\n",
    "\n",
    "\n",
    "    plotTree.yOff = plotTree.yOff + 1.0 / plotTree.totalD"
   ]
  },
  {
   "cell_type": "markdown",
   "metadata": {},
   "source": [
    "### 删失数据"
   ]
  },
  {
   "cell_type": "markdown",
   "metadata": {},
   "source": [
    "现在数据train中存在缺失值（以“N”表示）,请更改代码splitDataSet为splitDataSetWithNull，使得其可以在删失数据上使用"
   ]
  },
  {
   "cell_type": "code",
   "execution_count": null,
   "metadata": {},
   "outputs": [],
   "source": [
    "def splitDataSetWithNull(dataSet, axis, value, LorR='N'):\n",
    "    \"\"\"\n",
    "    type: (list, int, string or float, string) -> list\n",
    "    划分数据集\n",
    "    axis:按第几个特征划分\n",
    "    value:划分特征的值\n",
    "    LorR: N 离散属性; L 小于等于value值; R 大于value值\n",
    "    \"\"\"\n",
    "    retDataSet = []\n",
    "    nullDataSet = []\n",
    "    featVec = []\n",
    "    totalWeightV = calcTotalWeight(dataSet, axis, False)  # 非空样本权重\n",
    "    totalWeightSub = 0.0\n",
    "    if LorR == 'N':  # 离散属性\n",
    "\n",
    "        \n",
    "        \n",
    "    elif LorR == 'L':\n",
    "\n",
    "        \n",
    "        \n",
    "    elif LorR == 'R':\n",
    "\n",
    "        \n",
    "        \n",
    "\n",
    "    totalWeightSub = calcTotalWeight(retDataSet, -1, True)  # 计算此分支中非空样本的总权重\n",
    "    for nullVec in nullDataSet:  # 把缺失值样本按权值比例划分到分支中\n",
    "        nullVec[-2] = float(nullVec[-2]) * totalWeightSub / totalWeightV\n",
    "        retDataSet.append(nullVec)\n",
    "\n",
    "    return retDataSet\n"
   ]
  },
  {
   "cell_type": "markdown",
   "metadata": {},
   "source": [
    "## 回归树构建及boosting"
   ]
  },
  {
   "cell_type": "markdown",
   "metadata": {},
   "source": [
    "请参考ISL代码 Chapter8，针对Hitters数据集，进行下述操作"
   ]
  },
  {
   "cell_type": "markdown",
   "metadata": {},
   "source": [
    "* (a) 对Hitters数据集中的Salary变量，使用Walks和Years作为特征构建回归树，并画图展示，注意因变量为Salary"
   ]
  },
  {
   "cell_type": "markdown",
   "metadata": {},
   "source": [
    "* (b) 参考figure8.2，作关于Walks和Years的回归树分割图"
   ]
  },
  {
   "cell_type": "markdown",
   "metadata": {},
   "source": [
    "* (c) 参考8.3.2，对np.log(Salary),使用Hitters数据集中的所有数值变量（除去object类型）构建回归树，并展示预测效果"
   ]
  },
  {
   "cell_type": "markdown",
   "metadata": {},
   "source": [
    "* (d) 参考8.3.4，对np.log(Salary),使用(c)中变量拟合Boosting集成模型，统计展示各变量重要性，并与（c）的预测结果进行对比"
   ]
  },
  {
   "cell_type": "markdown",
   "metadata": {},
   "source": [
    "## 五一观影及感想"
   ]
  },
  {
   "cell_type": "markdown",
   "metadata": {},
   "source": [
    "        影片《点球成金》改编自迈克尔·刘易斯的《魔球：逆境中致胜的智慧》，由贝尼特·米勒执导，布拉德·皮特、乔纳·希尔和菲利普·塞默·霍夫曼等联袂出演。影片于2011年9月9日在加拿大多伦多电影节率先上映。电影讲述奥克兰运动家棒球队（又称绿帽队或白象队）总经理比利·比恩（Billy Beane）的经营哲学，描写了他如何以小搏大、力抗其它薪资总额比他们多上数倍的大球队的方法。\n",
    "\n",
    "请观看该影片（前30min必须观看），并撰写观后感"
   ]
  },
  {
   "cell_type": "markdown",
   "metadata": {},
   "source": [
    "本次作业提交时间截至2022.05.06 24:00"
   ]
  }
 ],
 "metadata": {
  "kernelspec": {
   "display_name": "Python 3",
   "language": "python",
   "name": "python3"
  },
  "language_info": {
   "codemirror_mode": {
    "name": "ipython",
    "version": 3
   },
   "file_extension": ".py",
   "mimetype": "text/x-python",
   "name": "python",
   "nbconvert_exporter": "python",
   "pygments_lexer": "ipython3",
   "version": "3.6.5"
  },
  "toc": {
   "base_numbering": 1,
   "nav_menu": {},
   "number_sections": true,
   "sideBar": true,
   "skip_h1_title": false,
   "title_cell": "Table of Contents",
   "title_sidebar": "Contents",
   "toc_cell": false,
   "toc_position": {},
   "toc_section_display": true,
   "toc_window_display": false
  }
 },
 "nbformat": 4,
 "nbformat_minor": 2
}
