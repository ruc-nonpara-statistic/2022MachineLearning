{
 "cells": [
  {
   "cell_type": "markdown",
   "metadata": {},
   "source": [
    "# logistic 回归和knn"
   ]
  },
  {
   "cell_type": "markdown",
   "metadata": {},
   "source": [
    "参考资料：https://blog.csdn.net/c406495762/article/details/77851973"
   ]
  },
  {
   "cell_type": "markdown",
   "metadata": {},
   "source": [
    "## logistic 利用sklearn实现"
   ]
  },
  {
   "cell_type": "code",
   "execution_count": 1,
   "metadata": {},
   "outputs": [],
   "source": [
    "import warnings\n",
    "warnings.filterwarnings(\"ignore\")"
   ]
  },
  {
   "cell_type": "code",
   "execution_count": 2,
   "metadata": {},
   "outputs": [],
   "source": [
    "#导入要用到的库\n",
    "import numpy as np \n",
    "import pandas as pd \n",
    "from sklearn.preprocessing import LabelEncoder #转化哑变量的类\n",
    "from sklearn.preprocessing import StandardScaler #标准化的类\n",
    "from sklearn.linear_model import LogisticRegression #logistic回归的类\n",
    "from sklearn.model_selection import train_test_split #分为测试集和训练集的函数\n",
    "from sklearn.neighbors import KNeighborsClassifier #knn的类\n",
    "from sklearn.metrics import confusion_matrix, precision_score,accuracy_score, recall_score, f1_score \n",
    "#分类结果的判别方法:混淆矩阵判别准确率,查准率,查全率,f1-score\n",
    "import matplotlib.pyplot as plt#画图的库"
   ]
  },
  {
   "cell_type": "code",
   "execution_count": 3,
   "metadata": {},
   "outputs": [
    {
     "data": {
      "text/html": [
       "<div>\n",
       "<style scoped>\n",
       "    .dataframe tbody tr th:only-of-type {\n",
       "        vertical-align: middle;\n",
       "    }\n",
       "\n",
       "    .dataframe tbody tr th {\n",
       "        vertical-align: top;\n",
       "    }\n",
       "\n",
       "    .dataframe thead th {\n",
       "        text-align: right;\n",
       "    }\n",
       "</style>\n",
       "<table border=\"1\" class=\"dataframe\">\n",
       "  <thead>\n",
       "    <tr style=\"text-align: right;\">\n",
       "      <th></th>\n",
       "      <th>Unnamed: 0</th>\n",
       "      <th>Year</th>\n",
       "      <th>Lag1</th>\n",
       "      <th>Lag2</th>\n",
       "      <th>Lag3</th>\n",
       "      <th>Lag4</th>\n",
       "      <th>Lag5</th>\n",
       "      <th>Volume</th>\n",
       "      <th>Today</th>\n",
       "      <th>Direction</th>\n",
       "    </tr>\n",
       "  </thead>\n",
       "  <tbody>\n",
       "    <tr>\n",
       "      <th>0</th>\n",
       "      <td>1</td>\n",
       "      <td>2001</td>\n",
       "      <td>0.381</td>\n",
       "      <td>-0.192</td>\n",
       "      <td>-2.624</td>\n",
       "      <td>-1.055</td>\n",
       "      <td>5.010</td>\n",
       "      <td>1.1913</td>\n",
       "      <td>0.959</td>\n",
       "      <td>Up</td>\n",
       "    </tr>\n",
       "    <tr>\n",
       "      <th>1</th>\n",
       "      <td>2</td>\n",
       "      <td>2001</td>\n",
       "      <td>0.959</td>\n",
       "      <td>0.381</td>\n",
       "      <td>-0.192</td>\n",
       "      <td>-2.624</td>\n",
       "      <td>-1.055</td>\n",
       "      <td>1.2965</td>\n",
       "      <td>1.032</td>\n",
       "      <td>Up</td>\n",
       "    </tr>\n",
       "    <tr>\n",
       "      <th>2</th>\n",
       "      <td>3</td>\n",
       "      <td>2001</td>\n",
       "      <td>1.032</td>\n",
       "      <td>0.959</td>\n",
       "      <td>0.381</td>\n",
       "      <td>-0.192</td>\n",
       "      <td>-2.624</td>\n",
       "      <td>1.4112</td>\n",
       "      <td>-0.623</td>\n",
       "      <td>Down</td>\n",
       "    </tr>\n",
       "    <tr>\n",
       "      <th>3</th>\n",
       "      <td>4</td>\n",
       "      <td>2001</td>\n",
       "      <td>-0.623</td>\n",
       "      <td>1.032</td>\n",
       "      <td>0.959</td>\n",
       "      <td>0.381</td>\n",
       "      <td>-0.192</td>\n",
       "      <td>1.2760</td>\n",
       "      <td>0.614</td>\n",
       "      <td>Up</td>\n",
       "    </tr>\n",
       "    <tr>\n",
       "      <th>4</th>\n",
       "      <td>5</td>\n",
       "      <td>2001</td>\n",
       "      <td>0.614</td>\n",
       "      <td>-0.623</td>\n",
       "      <td>1.032</td>\n",
       "      <td>0.959</td>\n",
       "      <td>0.381</td>\n",
       "      <td>1.2057</td>\n",
       "      <td>0.213</td>\n",
       "      <td>Up</td>\n",
       "    </tr>\n",
       "  </tbody>\n",
       "</table>\n",
       "</div>"
      ],
      "text/plain": [
       "   Unnamed: 0  Year   Lag1   Lag2   Lag3   Lag4   Lag5  Volume  Today  \\\n",
       "0           1  2001  0.381 -0.192 -2.624 -1.055  5.010  1.1913  0.959   \n",
       "1           2  2001  0.959  0.381 -0.192 -2.624 -1.055  1.2965  1.032   \n",
       "2           3  2001  1.032  0.959  0.381 -0.192 -2.624  1.4112 -0.623   \n",
       "3           4  2001 -0.623  1.032  0.959  0.381 -0.192  1.2760  0.614   \n",
       "4           5  2001  0.614 -0.623  1.032  0.959  0.381  1.2057  0.213   \n",
       "\n",
       "  Direction  \n",
       "0        Up  \n",
       "1        Up  \n",
       "2      Down  \n",
       "3        Up  \n",
       "4        Up  "
      ]
     },
     "execution_count": 3,
     "metadata": {},
     "output_type": "execute_result"
    }
   ],
   "source": [
    "#logistic回归部分\n",
    "#读入数据\n",
    "data=pd.read_csv('Smarket.csv')\n",
    "data.head()"
   ]
  },
  {
   "cell_type": "code",
   "execution_count": 4,
   "metadata": {},
   "outputs": [],
   "source": [
    "#将标签转为0，1形式\n",
    "le=LabelEncoder()\n",
    "y=le.fit_transform(data['Direction'].tolist())\n",
    "X=np.mat([data['Lag1'].tolist(),data['Lag2'].tolist(),data['Lag3'].tolist(),data['Lag4'].tolist(),data['Lag5'].tolist(),data['Volume'].tolist()]).T"
   ]
  },
  {
   "cell_type": "code",
   "execution_count": 5,
   "metadata": {},
   "outputs": [],
   "source": [
    "#划分训练集和测试集\n",
    "X_train, X_test, y_train, y_test = train_test_split(X, y, test_size=0.25, random_state=0)"
   ]
  },
  {
   "cell_type": "markdown",
   "metadata": {},
   "source": [
    "## sklearn实现LR"
   ]
  },
  {
   "cell_type": "code",
   "execution_count": 6,
   "metadata": {},
   "outputs": [
    {
     "name": "stdout",
     "output_type": "stream",
     "text": [
      "Logistic回归的截距和系数分别为 [-0.05829281] [[-0.05698568 -0.06121648  0.04572439 -0.01543955 -0.03044742  0.12184176]]\n",
      "混淆矩阵\n",
      "[[ 26 136]\n",
      " [ 24 127]]\n",
      "混淆矩阵判别准确率,查准率,查全率,f1-score依次为\n",
      "0.48881789137380194 0.4828897338403042 0.8410596026490066 0.6135265700483091\n"
     ]
    }
   ],
   "source": [
    "clf = LogisticRegression(random_state=0).fit(X_train, y_train)\n",
    "print('Logistic回归的截距和系数分别为',clf.intercept_,clf.coef_)\n",
    "y_pred=clf.predict(X_test) #预测标签直接为0,1\n",
    "\n",
    "C2= confusion_matrix(y_test, y_pred, labels=[0,1])\n",
    "print('混淆矩阵')\n",
    "print(C2) \n",
    "print('混淆矩阵判别准确率,查准率,查全率,f1-score依次为')\n",
    "print(accuracy_score(y_test,y_pred),precision_score(y_test,y_pred),recall_score(y_test,y_pred),f1_score(y_test,y_pred))"
   ]
  },
  {
   "cell_type": "markdown",
   "metadata": {},
   "source": [
    "利用留出法建模,将数据以3:1的比例分成训练集和测试机。利用训练集建模,训练出的模型在测试集上的准确率,查全率,查准率,f1-score分别为0.4888 0.4828 0.8410 0.6135，并且得到混淆矩阵"
   ]
  },
  {
   "cell_type": "code",
   "execution_count": null,
   "metadata": {},
   "outputs": [],
   "source": []
  },
  {
   "cell_type": "markdown",
   "metadata": {},
   "source": [
    "# logistic 自定义函数实现"
   ]
  },
  {
   "cell_type": "code",
   "execution_count": 7,
   "metadata": {},
   "outputs": [],
   "source": [
    "#新增一列全1的数据作为截距项部分\n",
    "XX=np.mat([[1]*data.shape[0],data['Lag1'].tolist(),data['Lag2'].tolist(),data['Lag3'].tolist(),data['Lag4'].tolist(),data['Lag5'].tolist(),data['Volume'].tolist()]).T"
   ]
  },
  {
   "cell_type": "code",
   "execution_count": 8,
   "metadata": {},
   "outputs": [
    {
     "data": {
      "text/plain": [
       "matrix([[ 1.     ,  0.381  , -0.192  , ..., -1.055  ,  5.01   ,  1.1913 ],\n",
       "        [ 1.     ,  0.959  ,  0.381  , ..., -2.624  , -1.055  ,  1.2965 ],\n",
       "        [ 1.     ,  1.032  ,  0.959  , ..., -0.192  , -2.624  ,  1.4112 ],\n",
       "        ...,\n",
       "        [ 1.     , -0.955  ,  0.043  , ...,  0.252  , -0.024  ,  1.54047],\n",
       "        [ 1.     ,  0.13   , -0.955  , ...,  0.422  ,  0.252  ,  1.42236],\n",
       "        [ 1.     , -0.298  ,  0.13   , ...,  0.043  ,  0.422  ,  1.38254]])"
      ]
     },
     "execution_count": 8,
     "metadata": {},
     "output_type": "execute_result"
    }
   ],
   "source": [
    "XX"
   ]
  },
  {
   "cell_type": "code",
   "execution_count": 9,
   "metadata": {},
   "outputs": [],
   "source": [
    "#划分训练集和测试集\n",
    "XX_train, XX_test, y_train, y_test = train_test_split(XX, y, test_size=0.25, random_state=0)"
   ]
  },
  {
   "cell_type": "code",
   "execution_count": 10,
   "metadata": {},
   "outputs": [],
   "source": [
    "from numpy import *\n",
    "\n",
    "#sigmod函数\n",
    "def sigmoid(inX):\n",
    "    return 1.0/(1+exp(-inX))\n",
    "\n",
    "#梯度上升算法\n",
    "def gradAscent(dataMatIn, classLabels):\n",
    "    dataMatrix = mat(dataMatIn)             #训练样本的特征，行为样本，列为特征\n",
    "    labelMat = mat(classLabels).transpose() #labelMat是列向量\n",
    "    m,n = shape(dataMatrix)\n",
    "    \n",
    "    alpha=0.0001\n",
    "    \n",
    "    #迭代次数\n",
    "    maxCycles =5000\n",
    "    weights =ones((n,1))\n",
    "    #在for循环迭代完成后，将返回训练好的回归系数。\n",
    "    for k in range(maxCycles):  \n",
    "        h = sigmoid(dataMatrix*weights)\n",
    "        error = (labelMat - h)  \n",
    "        #print('中间',dataMatrix.transpose()* error)\n",
    "        weights = weights+alpha*dataMatrix.transpose()* error \n",
    "\n",
    "    return weights"
   ]
  },
  {
   "cell_type": "code",
   "execution_count": 11,
   "metadata": {},
   "outputs": [
    {
     "data": {
      "text/plain": [
       "matrix([[-0.06049959],\n",
       "        [-0.05720112],\n",
       "        [-0.06141587],\n",
       "        [ 0.0458854 ],\n",
       "        [-0.01546088],\n",
       "        [-0.03053716],\n",
       "        [ 0.12344022]])"
      ]
     },
     "execution_count": 11,
     "metadata": {},
     "output_type": "execute_result"
    }
   ],
   "source": [
    "gradAscent(XX_train,np.array(y_train))"
   ]
  },
  {
   "cell_type": "code",
   "execution_count": null,
   "metadata": {},
   "outputs": [],
   "source": []
  },
  {
   "cell_type": "code",
   "execution_count": null,
   "metadata": {},
   "outputs": [],
   "source": []
  },
  {
   "cell_type": "markdown",
   "metadata": {},
   "source": [
    "## knn"
   ]
  },
  {
   "cell_type": "code",
   "execution_count": 12,
   "metadata": {},
   "outputs": [
    {
     "data": {
      "text/plain": [
       "(937, 6)"
      ]
     },
     "execution_count": 12,
     "metadata": {},
     "output_type": "execute_result"
    }
   ],
   "source": [
    "X_train.shape"
   ]
  },
  {
   "cell_type": "code",
   "execution_count": 13,
   "metadata": {},
   "outputs": [
    {
     "data": {
      "text/plain": [
       "(937,)"
      ]
     },
     "execution_count": 13,
     "metadata": {},
     "output_type": "execute_result"
    }
   ],
   "source": [
    "y_train.shape"
   ]
  },
  {
   "cell_type": "code",
   "execution_count": 14,
   "metadata": {},
   "outputs": [
    {
     "data": {
      "image/png": "[encoded data removed]",
      "text/plain": [
       "<Figure size 432x288 with 1 Axes>"
      ]
     },
     "metadata": {
      "needs_background": "light"
     },
     "output_type": "display_data"
    }
   ],
   "source": [
    "#knn算法\n",
    "k=20\n",
    "k_list=[]\n",
    "score_list=[]\n",
    "\n",
    "for i in range(k):\n",
    "    k_list.append(i+1)\n",
    "    neigh = KNeighborsClassifier(n_neighbors=i+1).fit(np.array(X_train),y_train)\n",
    "    score_list.append(neigh.score(np.array(X_test),y_test))\n",
    "    \n",
    "#plt.cla()\n",
    "plt.plot(k_list,score_list)   \n",
    "plt.show()"
   ]
  },
  {
   "cell_type": "markdown",
   "metadata": {},
   "source": [
    "在knn算法中选取不同的k,得到不同的判别准确率,可以看到k=5时准确率达到最高,所以选取k为5"
   ]
  },
  {
   "cell_type": "code",
   "execution_count": 15,
   "metadata": {},
   "outputs": [
    {
     "name": "stdout",
     "output_type": "stream",
     "text": [
      "训练集准确率为 0.6744930629669157\n",
      "预测集混淆矩阵\n",
      " [[84 78]\n",
      " [60 91]]\n",
      "混淆矩阵判别准确率,查准率,查全率,f1-score依次为\n",
      "0.5591054313099042 0.5384615384615384 0.6026490066225165 0.56875\n"
     ]
    }
   ],
   "source": [
    "neigh = KNeighborsClassifier(n_neighbors=k_list[np.argmax(score_list)]).fit(np.array(X_train),y_train)\n",
    "print('训练集准确率为',neigh.score(np.array(X_train),y_train))\n",
    "\n",
    "y_pred=neigh.predict(np.array(X_test))\n",
    "C= confusion_matrix(y_test, y_pred, labels=[0,1])\n",
    "print('预测集混淆矩阵\\n',C)\n",
    "print('混淆矩阵判别准确率,查准率,查全率,f1-score依次为')\n",
    "print(accuracy_score(y_test,y_pred),precision_score(y_test,y_pred),recall_score(y_test,y_pred),f1_score(y_test,y_pred))"
   ]
  },
  {
   "cell_type": "code",
   "execution_count": null,
   "metadata": {},
   "outputs": [],
   "source": []
  },
  {
   "cell_type": "code",
   "execution_count": null,
   "metadata": {},
   "outputs": [],
   "source": []
  },
  {
   "cell_type": "code",
   "execution_count": null,
   "metadata": {},
   "outputs": [],
   "source": []
  },
  {
   "cell_type": "code",
   "execution_count": null,
   "metadata": {},
   "outputs": [],
   "source": []
  }
 ],
 "metadata": {
  "kernelspec": {
   "display_name": "Python 3",
   "language": "python",
   "name": "python3"
  },
  "language_info": {
   "codemirror_mode": {
    "name": "ipython",
    "version": 3
   },
   "file_extension": ".py",
   "mimetype": "text/x-python",
   "name": "python",
   "nbconvert_exporter": "python",
   "pygments_lexer": "ipython3",
   "version": "3.8.5"
  }
 },
 "nbformat": 4,
 "nbformat_minor": 4
}
