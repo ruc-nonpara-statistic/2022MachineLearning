{
 "cells": [
  {
   "cell_type": "markdown",
   "metadata": {},
   "source": [
    "# 题目1(10分）"
   ]
  },
  {
   "cell_type": "markdown",
   "metadata": {},
   "source": [
    "## 问题描述"
   ]
  },
  {
   "cell_type": "markdown",
   "metadata": {},
   "source": [
    "使用Adevrtising数据中的三个自变量(newpaper,TV和Radio)建立最小二乘法计算的多元回归模型和SO算法的多元回归模型并进行比较"
   ]
  },
  {
   "cell_type": "markdown",
   "metadata": {},
   "source": [
    "## 解决目标/解题思路"
   ]
  },
  {
   "cell_type": "markdown",
   "metadata": {},
   "source": [
    "* 读入数据集\n",
    "* 筛选数据，查看数据情况(如是否存在NA)\n",
    "* 导入对应第三方库并计算最小二乘多元回归结果\n",
    "* 使用SO算法(如无第三方库需要自行编写)计算多元回归结果\n",
    "* 比较两个模型系数结果"
   ]
  },
  {
   "cell_type": "markdown",
   "metadata": {},
   "source": [
    "## 假设/引用"
   ]
  },
  {
   "cell_type": "markdown",
   "metadata": {},
   "source": [
    "SO算法参考The Elements of Statistical Learning p54"
   ]
  },
  {
   "cell_type": "markdown",
   "metadata": {},
   "source": [
    "## 代码实现"
   ]
  },
  {
   "cell_type": "code",
   "execution_count": 3,
   "metadata": {},
   "outputs": [
    {
     "name": "stdout",
     "output_type": "stream",
     "text": [
      "建立的多元回归模型为y=0.046*TV+0.189*Radio-0.001*newspaper+2.939\n",
      "依据SO算法建立的多元回归模型为y=0.046*TV+0.189*Radio-0.001*newspaper+2.939\n"
     ]
    }
   ],
   "source": [
    "import pandas as pd\n",
    "import numpy as np\n",
    "import matplotlib.pyplot as plt\n",
    "from sklearn.linear_model import LinearRegression\n",
    "\n",
    "#读取数据,分开每一列\n",
    "df=pd.read_excel('Advertising.xlsx')\n",
    "sales=df.loc[:,['Sales']].values  \n",
    "tv=df.loc[:,['TV']].values\n",
    "newspaper=df.loc[:,['Newspaper']].values\n",
    "radio=df.loc[:,['Radio']].values\n",
    "X=df.loc[:,['TV','Radio','Newspaper']].values\n",
    "\n",
    "#建立多元回归模型\n",
    "slr=LinearRegression() \n",
    "slr.fit(X,sales)\n",
    "coef=slr.coef_.reshape(3,1)\n",
    "print('建立的多元回归模型为y=%.3f*TV+%.3f*Radio%.3f*newspaper+%.3f'%(coef[0],coef[1],coef[2],slr.intercept_))\n",
    "\n",
    "\n",
    "#逐步正交算法求解回归系数\n",
    "#求解向量内积\n",
    "def CalVecMul(a,b):\n",
    "    sum=0\n",
    "    for i in range(len(a)):\n",
    "        sum+=a[i]*b[i]\n",
    "    return sum\n",
    "\n",
    "#SO算法的求解,X是3行矩阵，需要在原来基础上转置\n",
    "def OSalg(X,y):  \n",
    "    z=np.array([list(X[0])])   #第1项由1构成\n",
    "    for j in [1,2,3]:\n",
    "        sum0=np.array(list(np.zeros(len(y))))  #用来求线性组合\n",
    "        for k in range(j):\n",
    "            vector=(np.dot(X[j],z[k])/np.dot(z[k],z[k]))*z[k] \n",
    "            sum0+=vector\n",
    "        z=np.append(z,np.array([list(X[j]-sum0)]),axis=0)\n",
    "    return np.dot(y.reshape(200),z[3])/np.dot(z[3],z[3])\n",
    "\n",
    "#求解Newspaper的系数,在最前面添加1列1\n",
    "X1=np.c_[np.ones(200),X].T\n",
    "b3=OSalg(X1,sales)\n",
    "#求解Radio的系数\n",
    "X2=df.loc[:,['TV','Newspaper','Radio']].values\n",
    "X2=np.c_[np.ones(200),X2].T\n",
    "b2=OSalg(X2,sales)\n",
    "#求解TV的系数\n",
    "X3=df.loc[:,['Newspaper','Radio','TV']].values\n",
    "X3=np.c_[np.ones(200),X3].T\n",
    "b1=OSalg(X3,sales)\n",
    "#求解常数项\n",
    "X4=np.c_[X,np.ones(200)].T\n",
    "a=OSalg(X4,sales)\n",
    "print('依据SO算法建立的多元回归模型为y=%.3f*TV+%.3f*Radio%.3f*newspaper+%.3f'%(b1,b2,b3,a))"
   ]
  },
  {
   "cell_type": "markdown",
   "metadata": {},
   "source": [
    "## 结果分析"
   ]
  },
  {
   "cell_type": "markdown",
   "metadata": {},
   "source": [
    "计算发现最小二乘法和SO算法得出的回归方程是一致的。通过最小二乘回归计算出的多元回归系数与通过逐步正交回归(Successive Orthogonalization)得到的回归系数完全一致，因此这两种方法是等效的，即多元回归中，某一自变量的回归系数可以解释为在排除其他自变量对因变量的影响后该自变量仍然能够对因变量产生的影响。"
   ]
  },
  {
   "cell_type": "markdown",
   "metadata": {},
   "source": [
    "对于题目1一共10分的分值，1.1-1.3占3分，1.4代码实现处共占5分，其中合适注释2分，训练集测试集划分1分(如有)，代码完成程度(2分),1.5结果解释2分"
   ]
  },
  {
   "cell_type": "markdown",
   "metadata": {},
   "source": [
    "# 第二题"
   ]
  },
  {
   "cell_type": "markdown",
   "metadata": {},
   "source": [
    "## 问题描述"
   ]
  },
  {
   "cell_type": "markdown",
   "metadata": {},
   "source": [
    "用sa心脏病数据，用chd(1:得病，0：正常)，对tobacco(吸烟量)+ldl(肥胖指数)+age(年龄)进行logistic回归建模，并和用FisherLDA进行比较，实验中P(Ci),i=1,2,3,请用每一组参与训练的数据量来估计"
   ]
  },
  {
   "cell_type": "markdown",
   "metadata": {},
   "source": [
    "## 解决目标/解题思路"
   ]
  },
  {
   "cell_type": "markdown",
   "metadata": {},
   "source": [
    "* 读入数据集\n",
    "* 筛选数据，查看数据情况(如是否存在NA)\n",
    "* 进行训练集、测试集的划分\n",
    "* 导入所需的第三方库并在训练集上进行logistic回归\n",
    "* 使用FisherLDA算法(如无第三方库需要自行编写)在训练集上训练\n",
    "* 使用两个模型在测试集上进行预测，比较两个模型在测试集上的结果"
   ]
  },
  {
   "cell_type": "markdown",
   "metadata": {},
   "source": [
    "## 假设/引用"
   ]
  },
  {
   "cell_type": "markdown",
   "metadata": {},
   "source": [
    "fisher线性判别算法参考PPT《第四章 分类线性模型》p36"
   ]
  },
  {
   "cell_type": "markdown",
   "metadata": {},
   "source": [
    "## 代码实现"
   ]
  },
  {
   "cell_type": "code",
   "execution_count": 37,
   "metadata": {},
   "outputs": [
    {
     "name": "stdout",
     "output_type": "stream",
     "text": [
      "     tobacco    ldl  famhist  obesity  alcohol  age  Class\n",
      "0      12.00   5.73        1    25.30    97.20   52      2\n",
      "1       0.01   4.41        2    28.87     2.06   63      2\n",
      "2       0.08   3.48        1    29.14     3.81   46      1\n",
      "3       7.50   6.41        1    31.99    24.26   58      2\n",
      "4      13.60   3.50        1    25.99    57.34   49      2\n",
      "..       ...    ...      ...      ...      ...  ...    ...\n",
      "457     0.40   5.98        2    28.45     0.00   58      1\n",
      "458     4.20   4.41        2    28.61    18.72   52      2\n",
      "459     3.00   1.59        2    20.09    26.64   55      1\n",
      "460     5.40  11.61        2    27.35    23.97   40      1\n",
      "461     0.00   4.82        1    14.70     0.00   46      2\n",
      "\n",
      "[462 rows x 7 columns]\n"
     ]
    }
   ],
   "source": [
    "import numpy as np\n",
    "import matplotlib.pyplot as plt\n",
    "import pandas as pd\n",
    "\n",
    "#读入数据集并查看\n",
    "saheart=pd.read_csv(\"saheart.csv\")\n",
    "print(saheart)\n",
    "\n",
    "#提取对应变量\n",
    "x1=saheart.values[:,0].astype(float)\n",
    "x2=saheart.values[:,1].astype(float)\n",
    "x3=saheart.values[:,5].astype(float)\n",
    "y=saheart.values[:,6]\n",
    "\n"
   ]
  },
  {
   "cell_type": "code",
   "execution_count": 38,
   "metadata": {},
   "outputs": [
    {
     "name": "stdout",
     "output_type": "stream",
     "text": [
      "302\n"
     ]
    }
   ],
   "source": [
    "#统计各类别所占数目\n",
    "i=0\n",
    "length=0\n",
    "while(i<462):\n",
    "    if y[i]==1:\n",
    "        length=length+1\n",
    "    i=i+1\n",
    "print(length)"
   ]
  },
  {
   "cell_type": "code",
   "execution_count": 39,
   "metadata": {},
   "outputs": [],
   "source": [
    "#划分训练集和测试集：第一类采用前242个作为训练集，其余作为测试集；第二类采用前100个作为训练集，其余作为测试集\n",
    "\n",
    "#先将数据分类处理：\n",
    "i=0\n",
    "length1=0\n",
    "length2=0\n",
    "type1=np.zeros([length,3])\n",
    "type2=np.zeros([462-length,3])\n",
    "while(i<462):\n",
    "    if y[i]==1:\n",
    "        type1[length1,0]=x1[i]\n",
    "        type1[length1,1]=x2[i]\n",
    "        type1[length1,2]=x3[i]\n",
    "        length1=length1+1\n",
    "    else:\n",
    "        type2[length2,0]=x1[i]\n",
    "        type2[length2,1]=x2[i]\n",
    "        type2[length2,2]=x3[i]\n",
    "        length2=length2+1\n",
    "    i=i+1\n",
    "#划分训练集和测试集\n",
    "train1=type1[0:242,:]\n",
    "test1=type1[242:302,:]\n",
    "train2=type2[0:100,:]\n",
    "test2=type2[100:160,:]"
   ]
  },
  {
   "cell_type": "markdown",
   "metadata": {},
   "source": [
    "** fisherLDA线性判别 **"
   ]
  },
  {
   "cell_type": "code",
   "execution_count": 40,
   "metadata": {},
   "outputs": [
    {
     "name": "stdout",
     "output_type": "stream",
     "text": [
      "[[0. 0. 0.]\n",
      " [0. 0. 0.]\n",
      " [0. 0. 0.]]\n",
      "正例均值向量: [ 2.65793388  4.35268595 38.97107438]\n",
      "反例均值向量: [ 5.5482  5.5122 49.59  ]\n",
      "正例协方差矩阵:\n",
      " [[ 3023.98916694   362.89784298  6348.51553719]\n",
      " [  362.89784298   829.99375413  1936.95880165]\n",
      " [ 6348.51553719  1936.95880165 52794.79752066]]\n",
      "反例协方差矩阵:\n",
      " [[ 2962.511076  -108.039104  1494.9562  ]\n",
      " [ -108.039104   445.911316   445.1002  ]\n",
      " [ 1494.9562     445.1002   11672.19    ]]\n"
     ]
    }
   ],
   "source": [
    "#使用fisherLDA线性判别，求基本元素：\n",
    "#均值向量\n",
    "mean1=np.mean(train1,axis=0)\n",
    "mean2=np.mean(train2,axis=0)\n",
    "#类内协方差矩阵\n",
    "deta1=np.zeros([3,3])\n",
    "deta2=np.zeros([3,3])\n",
    "print(deta1)\n",
    "i=0\n",
    "while(i<len(train1)):\n",
    "    hh=train1[i,:]-mean1\n",
    "    deta1=np.dot(hh.reshape(3,1),hh.reshape(1,3))+deta1\n",
    "    i=i+1\n",
    "i=0\n",
    "while(i<len(train2)):\n",
    "    hh=train2[i,:]-mean2\n",
    "    deta2=np.dot(hh.reshape(3,1),hh.reshape(1,3))+deta2\n",
    "    i=i+1\n",
    "\n",
    "\n",
    "print('正例均值向量:',mean1)\n",
    "print('反例均值向量:',mean2)\n",
    "print('正例协方差矩阵:\\n',deta1)\n",
    "print('反例协方差矩阵:\\n',deta2)"
   ]
  },
  {
   "cell_type": "code",
   "execution_count": 41,
   "metadata": {},
   "outputs": [
    {
     "name": "stdout",
     "output_type": "stream",
     "text": [
      "权重为: [-0.00032217 -0.00065529 -0.00010131]\n",
      "阈值为: -0.009040053839360386\n"
     ]
    }
   ],
   "source": [
    "#求解Fisher判别中的权重\n",
    "deta12=deta1+deta2\n",
    "w12=np.dot(np.linalg.inv(deta12),mean1-mean2)\n",
    "print('权重为:',w12)\n",
    "#求解Fisher判别中的阈值：\n",
    "T=0.5*np.dot(np.dot((mean1+mean2),np.linalg.inv(deta12)),mean1-mean2)\n",
    "print('阈值为:',T)"
   ]
  },
  {
   "cell_type": "code",
   "execution_count": 42,
   "metadata": {},
   "outputs": [
    {
     "name": "stdout",
     "output_type": "stream",
     "text": [
      "Fisher在类型1中判别结果为: [1 1 1 1 1 2 1 2 1 1 2 2 2 1 2 1 2 1 2 2 1 1 2 2 2 1 1 1 1 1 1 1 1 1 1 1 1\n",
      " 1 1 1 1 1 1 1 1 1 1 2 1 1 1 1 1 1 1 1 1 2 1 2]\n",
      "Fisher在类型1中错误判别的个数为： 15\n",
      "Fisher在类型2中判别结果为: [1 2 2 1 1 2 1 2 1 2 1 2 2 2 1 2 2 1 2 2 2 2 2 2 2 2 1 2 2 1 2 2 2 2 2 2 2\n",
      " 2 1 2 2 2 2 2 2 2 2 2 1 1 2 2 1 1 2 2 1 1 2 1]\n",
      "Fisher在类型2中错误判别的个数为： 18\n"
     ]
    }
   ],
   "source": [
    "#求解错判数目\n",
    "\n",
    "result1=np.arange(0,60,1)\n",
    "i=0\n",
    "wrong1=0\n",
    "while(i<60):\n",
    "    zz=np.array(test1[i,:])\n",
    "    z=np.dot(w12,test1[i,:])\n",
    "    if z>T:\n",
    "        result1[i]=1\n",
    "    else:\n",
    "        result1[i]=2\n",
    "        wrong1=wrong1+1\n",
    "    i=i+1\n",
    "print('Fisher在类型1中判别结果为:',result1)\n",
    "print(\"Fisher在类型1中错误判别的个数为：\",wrong1)\n",
    "\n",
    "result2=np.arange(0,60,1)\n",
    "wrong2=0\n",
    "i=0\n",
    "while(i<60):\n",
    "    z=np.dot(w12,test2[i,:])\n",
    "    if z>T:\n",
    "        result2[i]=1\n",
    "        wrong2=wrong2+1\n",
    "    else:\n",
    "        result2[i]=2\n",
    "    i=i+1\n",
    "print('Fisher在类型2中判别结果为:',result2)\n",
    "print(\"Fisher在类型2中错误判别的个数为：\",wrong2)"
   ]
  },
  {
   "cell_type": "code",
   "execution_count": 43,
   "metadata": {},
   "outputs": [
    {
     "name": "stdout",
     "output_type": "stream",
     "text": [
      "Fisher判别器的错误率为： 0.275\n"
     ]
    }
   ],
   "source": [
    "print(\"Fisher判别器的错误率为：\",(wrong1+wrong2)/120)"
   ]
  },
  {
   "cell_type": "markdown",
   "metadata": {},
   "source": [
    "** Logistic **"
   ]
  },
  {
   "cell_type": "code",
   "execution_count": 54,
   "metadata": {},
   "outputs": [],
   "source": [
    "#使用logistic回归\n",
    "x=np.zeros((342,3))\n",
    "y=np.arange(342).reshape(-1,1)\n",
    "y=np.ravel(y)  #扁平化函数\n",
    "i=0\n",
    "\n",
    "#对训练集和测试集分别进行合并调整\n",
    "while(i<242):\n",
    "    x[i]=train1[i]\n",
    "    y[i]=1\n",
    "    i=i+1\n",
    "i=242\n",
    "while(i<342):\n",
    "    x[i]=train2[i-242]\n",
    "    y[i]=2\n",
    "    i=i+1\n",
    "    \n",
    "xtest1=test1\n",
    "ytest1=np.ones(60).reshape(-1,1)\n",
    "ytest1=np.ravel(ytest1)\n",
    "\n",
    "\n",
    "xtest2=test2\n",
    "ytest2=np.ones(60).reshape(-1,1)\n",
    "ytest2=np.ravel(ytest2)\n"
   ]
  },
  {
   "cell_type": "code",
   "execution_count": 60,
   "metadata": {},
   "outputs": [
    {
     "name": "stdout",
     "output_type": "stream",
     "text": [
      "logistic对模型一测试点的预测结果为：\n",
      "[1 1 1 1 1 1 1 2 1 1 1 1 1 1 2 1 1 1 2 1 1 1 1 1 2 1 1 1 1 1 1 1 1 1 1 1 1\n",
      " 1 1 1 1 1 1 1 1 1 1 2 1 1 1 1 1 1 1 1 1 1 1 2]\n",
      "其中预测错误的点的个数为： 6\n",
      "logistic对模型二测试点的预测结果为：\n",
      "[1 2 2 1 1 1 1 1 1 1 1 2 1 1 1 2 2 1 2 2 1 1 1 1 1 1 1 2 2 1 2 1 2 1 1 1 2\n",
      " 1 1 1 1 2 1 1 2 2 2 2 1 1 2 1 1 1 1 1 1 1 1 1]\n",
      "其中预测错误的点的个数为： 42\n",
      "logistic的模型得分为： 0.8\n",
      "logistic模型的错误率为： 0.4\n"
     ]
    }
   ],
   "source": [
    "#建立logistic回归\n",
    "from sklearn.linear_model import LogisticRegression\n",
    "model=LogisticRegression(C=10)\n",
    "model.fit(x,y)\n",
    "\n",
    "#进行预测\n",
    "result1=model.predict(xtest1)\n",
    "result2=model.predict(xtest2)\n",
    "print(\"logistic对模型一测试点的预测结果为：\")\n",
    "print(result1)\n",
    "i=0\n",
    "wrong1=0\n",
    "while(i<60):\n",
    "    if result1[i]==2:\n",
    "        wrong1=wrong1+1\n",
    "    i=i+1\n",
    "print(\"其中预测错误的点的个数为：\",wrong1)\n",
    "print(\"logistic对模型二测试点的预测结果为：\")\n",
    "print(result2)\n",
    "i=0\n",
    "wrong2=0\n",
    "while(i<60):\n",
    "    if result2[i]==1:\n",
    "        wrong2=wrong2+1\n",
    "    i=i+1\n",
    "print(\"其中预测错误的点的个数为：\",wrong2)\n",
    "xtest=np.append(xtest1,xtest2,axis=0)\n",
    "ytest=np.append(ytest1,ytest2,axis=0)\n",
    "score=model.score(xtest,ytest)\n",
    "print(\"logistic的模型得分为：\",score)\n",
    "print(\"logistic模型的错误率为：\",(wrong1+wrong2)/120)"
   ]
  },
  {
   "cell_type": "markdown",
   "metadata": {},
   "source": [
    "## 结果分析"
   ]
  },
  {
   "cell_type": "markdown",
   "metadata": {},
   "source": [
    "由上述结果可以看出，使用FisherLDA进行预测时，错误率为0.275；\n",
    "\n",
    "使用logistic回归进行预测试时，错误率为0.4，高于FisherLDA\n",
    "\n",
    "通过详细预测结果还发现，logistic回归错判1为2的可能性较小，将2错判为1的可能性较大\n",
    "\n",
    "可能对于类别数目不均衡的样本，logistic比FisherLDA受到的影响更大"
   ]
  },
  {
   "cell_type": "markdown",
   "metadata": {},
   "source": [
    "# 第三题"
   ]
  },
  {
   "attachments": {
    "image.png": {
     "image/png": "[encoded data removed]"
    }
   },
   "cell_type": "markdown",
   "metadata": {},
   "source": [
    "![image.png](attachment:image.png)"
   ]
  },
  {
   "cell_type": "markdown",
   "metadata": {},
   "source": [
    "## 问题描述"
   ]
  },
  {
   "cell_type": "markdown",
   "metadata": {},
   "source": [
    "R对W是否存在解释远离？"
   ]
  },
  {
   "cell_type": "markdown",
   "metadata": {},
   "source": [
    "## 解决目标/解题思路"
   ]
  },
  {
   "cell_type": "markdown",
   "metadata": {},
   "source": [
    "思路：如果发生了解释远离，则需要满足不等式：P(R=t|W=t,S=t)<P(R=t|W=t),即S的发生会使R对W的解释力下降"
   ]
  },
  {
   "cell_type": "markdown",
   "metadata": {},
   "source": [
    "## 假设/引用"
   ]
  },
  {
   "cell_type": "markdown",
   "metadata": {},
   "source": [
    "解释远离的参考来自xxxxx"
   ]
  },
  {
   "cell_type": "markdown",
   "metadata": {},
   "source": [
    "## 代码实现"
   ]
  },
  {
   "cell_type": "markdown",
   "metadata": {},
   "source": [
    "**计算条件分布P(R=t|W=t)**"
   ]
  },
  {
   "cell_type": "code",
   "execution_count": 65,
   "metadata": {},
   "outputs": [],
   "source": [
    "# 刘心怡 2020200801\n",
    "#变量解释：  Pcs1=P(S=t|C=t);   Pcs2=P(S=f|C=t);  Pcs3=P(S=t|C=f);  Pcs4=P(S=f|C=f);  Pcr1=P(R=t|C=t);  Pcr2=P(R=f|C=t);  Pcr3=P(R=t|C=f);  Pcr4=P(R=f|C=f);Pc1=P(C=t);  Pc2=P(C=f)\n",
    "pc1=0.5\n",
    "pc2=0.5\n",
    "pcs1=0.1\n",
    "pcs2=0.9\n",
    "pcs3=0.5\n",
    "pcs4=0.5\n",
    "pcr1=0.8\n",
    "pcr2=0.2\n",
    "pcr3=0.2\n",
    "pcr4=0.8"
   ]
  },
  {
   "cell_type": "code",
   "execution_count": 66,
   "metadata": {},
   "outputs": [],
   "source": [
    "pst=pc1*pcs1+pc2*pcs3  #pst=P(S=t)\n",
    "prt=pc1*pcr1+pc2*pcr3  #prt=P(R=t)"
   ]
  },
  {
   "cell_type": "code",
   "execution_count": 67,
   "metadata": {},
   "outputs": [
    {
     "name": "stdout",
     "output_type": "stream",
     "text": [
      "0.09000000000000001\n",
      "0.21000000000000002\n",
      "0.41000000000000003\n",
      "0.29000000000000004\n"
     ]
    }
   ],
   "source": [
    "#P(S=t,R=t)=P(S=t,R=t|C=t)*P(C=t)+P(S=t,R=t|C=f)*P(C=f)\n",
    "#根据条件独立性：P(S=t,R=t)=P(S=t|C=t)*P(R=t|C=t)*P(C=t)+P(S=t|C=f)*P(R=t|C=f)*P(C=f)\n",
    "#同理有：\n",
    "#P(S=t,R=f)=P(S=t|C=t)*P(R=f|C=t)*P(C=t)+P(S=t|C=f)*P(R=f|C=f)*P(C=f)\n",
    "#P(S=f,R=t)=P(S=f|C=t)*P(R=t|C=t)*P(C=t)+P(S=f|C=f)*P(R=t|C=f)*P(C=f)\n",
    "#P(S=f,R=f)=P(S=f|C=t)*P(R=f|C=t)*P(C=t)+P(S=f|C=f)*P(R=f|C=f)*P(C=f)\n",
    "\n",
    "#变量解释：Psr1=P(S=t,R=t); Psr2=P(S=t,R=f);  Psr3=P(S=f,R=t);  Psr4=P(S=f,R=f);\n",
    "psr1=pcs1*pcr1*pc1+pcs3*pcr3*pc2\n",
    "psr2=pcs1*pcr2*pc1+pcs3*pcr4*pc2\n",
    "psr3=pcs2*pcr1*pc1+pcs4*pcr3*pc2\n",
    "psr4=pcs2*pcr2*pc1+pcs4*pcr4*pc2\n",
    "print(psr1)\n",
    "print(psr2)\n",
    "print(psr3)\n",
    "print(psr4)"
   ]
  },
  {
   "cell_type": "code",
   "execution_count": 69,
   "metadata": {},
   "outputs": [
    {
     "name": "stdout",
     "output_type": "stream",
     "text": [
      "0.6471\n",
      "0.45810000000000006\n"
     ]
    }
   ],
   "source": [
    "#变量解释：P1=P(W=t);  P2=P(R=t,W=t); \n",
    "\n",
    "#P(W=t)=P(W=t|S=t,R=t)*P(S=t,R=t)+P(W=t|S=t,R=f)*P(S=t,R=f)+P(W=t|S=f,R=t)*P(S=f,R=t)+P(W=t|S=f,R=f)*P(S=f,R=f)\n",
    "p1=0.99*psr1+0.9*psr2+0.9*psr3+0*psr4\n",
    "print(p1)\n",
    "\n",
    "#P(W=t,R=t)=P(W=t,R=t,S=t)+P(W=t,R=t,S=f)=P(W=t|R=t,S=t)*P(R=t,S=t)+P(W=t\\R=t,S=f)*P(R=t,S=f)\n",
    "p2=0.99*psr1+0.9*psr3\n",
    "print(p2)"
   ]
  },
  {
   "cell_type": "code",
   "execution_count": 70,
   "metadata": {},
   "outputs": [
    {
     "name": "stdout",
     "output_type": "stream",
     "text": [
      "P(R=t|W=t)= 0.7079276773296246\n"
     ]
    }
   ],
   "source": [
    "p=p2/p1\n",
    "print('P(R=t|W=t)=',p)"
   ]
  },
  {
   "cell_type": "markdown",
   "metadata": {},
   "source": [
    "**计算条件分布P(R=t|W=t,S=t)**"
   ]
  },
  {
   "cell_type": "code",
   "execution_count": 71,
   "metadata": {},
   "outputs": [
    {
     "name": "stdout",
     "output_type": "stream",
     "text": [
      "P(R=t|W=t,S=t)= 0.32038834951456313\n"
     ]
    }
   ],
   "source": [
    "#变量解释：P(R=t|W=t,S=t)=P(W=t,R=t,S=t)/P(W=t,S=t)，记p3=P(W=t,R=t,S=t)，p4=P(W=t,S=t)\n",
    "\n",
    "#P(W=t,S=t,R=t)=P(W=t|S=t,R=t)*P(S=t,R=t)\n",
    "p3=0.99*psr1\n",
    "\n",
    "#P(W=t,S=t)=P(W=t,S=t,R=t)+P(W=t,S=t,R=f)=P(W=t|S=t,R=t)*P(S=t,R=t)+P(W=t|S=t,R=f)*P(S=t,R=f)\n",
    "p4=0.99*psr1+psr2*0.9\n",
    "\n",
    "p0=p3/p4\n",
    "print('P(R=t|W=t,S=t)=',p0)"
   ]
  },
  {
   "cell_type": "markdown",
   "metadata": {},
   "source": [
    "## 结果分析"
   ]
  },
  {
   "cell_type": "markdown",
   "metadata": {},
   "source": [
    "因为P(R=t|W=t,S=t)=0.32038834951456313，P(R=t|W=t)=0.7079276773296246\n",
    "\n",
    "P(R=t|W=t,S=t)<P(R=t|W=t),所以认为发生了解释远离现象"
   ]
  },
  {
   "cell_type": "markdown",
   "metadata": {},
   "source": [
    "## 其他实现"
   ]
  },
  {
   "cell_type": "code",
   "execution_count": 74,
   "metadata": {},
   "outputs": [
    {
     "name": "stdout",
     "output_type": "stream",
     "text": [
      "S，R，W的发生概率: 0.3 0.5 0.6471000000000001\n",
      "SW均发生、RW均发生的联合概率: 0.2781 0.45810000000000006\n",
      "P(R|S,W)= 0.32038834951456313\n",
      "P(R|W)= 0.7079276773296245\n"
     ]
    }
   ],
   "source": [
    "#代码实现2 杨佩霏 2020200891\n",
    "\n",
    "# 准备工作-导入库\n",
    "\n",
    "import pandas as pd\n",
    "import numpy as np\n",
    "import math\n",
    "\n",
    "# 一、定义计算相关概率的各种函数\n",
    "\n",
    "## 1.计算一个事件条件概率的函数 P(A|B)\n",
    "\n",
    "def condition_rate1(p_a_with_b, p_b):\n",
    "    \n",
    "    p_a_from_b = p_a_with_b / p_b\n",
    "    \n",
    "    return p_a_from_b\n",
    "\n",
    "## 2.计算两个事件条件概率的函数 P(A|B,C)\n",
    "\n",
    "def condition_rate2(p_a_b_and_c, p_b_with_c):\n",
    "    \n",
    "    p_a_from_b_and_c = p_a_b_and_c / p_b_with_c\n",
    "    \n",
    "    return p_a_from_b_and_c\n",
    "\n",
    "## 3.计算第二层节点【发生】的概率的函数，即全概率公式\n",
    "\n",
    "### 传入参数：m1-父节点的概率矩阵 m2-当前节点的概率矩阵\n",
    "def node_rate2(m1, m2):\n",
    "    \n",
    "#     print(m2[0][1] , m1[0][0] , m2[1][1] , m1[0][1])\n",
    "    P = m2[0][1] * m1[0][0] + m2[1][1] * m1[0][1]\n",
    "    \n",
    "    return P\n",
    "\n",
    "## 4.计算第三层节点【发生】的概率的函数，即全概率公式\n",
    "### P(W=T) = P(W=T|S=T,R=T)*P(S=T,R=T)+ P(W=T|S=T,R=F)*P(S=T,R=F)+ P(W=T|S=F,R=T)*P(S=F,R=T)+ P(W=T|S=F,R=F)*P(S=F,R=F)\n",
    "## P(S=T,R=T) = P(C=T)*P(S=T|C=T)*P(R=T|C=T) + P(C=F)*P(S=T|C=F)*P(R=T|C=F)\n",
    "## 其他同理\n",
    "### 传入参数：p-最上层节点的发生概率 m1-上层节点一的发生概率 m2-上层节点二的发生概率 m-当前节点的概率矩阵\n",
    "def node_rate3(p, m1, m2, m):\n",
    "    \n",
    "    P = m[3][1]*(p*m1[1][1]*m2[1][1]+(1-p)*m1[0][1]*m2[0][1]) + m[2][1]*(p*m1[1][0]*m2[1][1]+(1-p)*m1[0][0]*m2[0][1]) + m[1][1]*(p*m1[1][1]*m2[1][0]+(1-p)*m1[0][1]*m2[0][0]) + m[0][1]*(p*m1[1][0]*m2[1][0]+(1-p)*m1[0][0]*m2[0][0])\n",
    "    \n",
    "    return P\n",
    "\n",
    "\n",
    "## 5.利用条件独立公式计算三个事件的联合概率\n",
    "\n",
    "## P(R=T,S=T,W=T) = P(W=T|S=T,R=T)*P(S=T,R=T)\n",
    "## 其中 P(S=T,R=T) = P(C=T)*P(S=T,R=T|C=T) + P(C=F)*P(S=T,R=T|C=F)\n",
    "## 由条件独立性得 P(S=T,R=T|C=T) = P(S=T|C=T)*P(R=T|C=T)\n",
    "## 同理 P(S=T,R=T|C=F) = P(S=T|C=F)*P(R=T|C=F)\n",
    "\n",
    "### 传入参数：p0-最上层节点的发生概率 m1,m2-节点的概率矩阵 m3-最后节点的概率矩阵\n",
    "def together_rate3(p0, m1, m2, m3):\n",
    "    \n",
    "    P = m3[3][1]*( p0*m1[1][1]*m2[1][1] + (1-p0)*m1[0][1]*m2[0][1] )\n",
    "    return P\n",
    "\n",
    "## 6.利用条件独立公式计算两个事件的联合概率\n",
    "\n",
    "## 例如 P(S,W) = P(S=T,W=T,R=T) + P(S=T,W=T,R=F)\n",
    "## P(S=T,W=T,R=F)计算同上\n",
    "## P(R=F,S=T,W=T) = P(W=T|S=T,R=F)*P(S=T,R=F)\n",
    "## 其中 P(S=T,R=F) = P(C=T)*P(S=T,R=F|C=T) + P(C=F)*P(S=T,R=F|C=F)\n",
    "## 由条件独立性得 P(S=T,R=F|C=T) = P(S=T|C=T)*P(R=F|C=T)\n",
    "## 同理 P(S=T,R=F|C=F) = P(S=T|C=F)*P(R=F|C=F)\n",
    "\n",
    "## 例如 P(R,W) = P(S=T,W=T,R=T) + P(S=F,W=T,R=T)\n",
    "## P(S=F,W=T,R=T)计算同上\n",
    "## P(R=T,S=F,W=T) = P(W=T|S=F,R=T)*P(S=F,R=T)\n",
    "## 其中 P(S=F,R=T) = P(C=T)*P(S=F,R=T|C=T) + P(C=F)*P(S=F,R=T|C=F)\n",
    "## 由条件独立性得 P(S=F,R=T|C=T) = P(S=F|C=T)*P(R=T|C=T)\n",
    "## 同理 P(S=F,R=T|C=F) = P(S=F|C=F)*P(R=T|C=F)\n",
    "\n",
    "### 传入参数：p0-最上层节点的发生概率 m1,m2-节点的概率矩阵 m3-最后节点的概率矩阵\n",
    "def together_rate2(p0, m1, m2, m3, a):\n",
    "    \n",
    "    p1 = together_rate3(p0, m1, m2, m3)\n",
    "    if(a == 'SW'):\n",
    "        p2 = m3[1][1]*( p0*m1[1][1]*m2[1][0] + (1-p0)*m1[0][1]*m2[0][0] )\n",
    "    elif(a == 'RW'):\n",
    "        p2 = m3[2][1]*( p0*m1[1][0]*m2[1][1] + (1-p0)*m1[0][0]*m2[0][1] )\n",
    "    P = p1 + p2\n",
    "    return P\n",
    "\n",
    "# 二、定义题目所给贝特斯网络中的概率矩阵\n",
    "\n",
    "C = [[0.5,0.5]]\n",
    "S_C = [[0.5,0.5],[0.9,0.1]]\n",
    "R_C = [[0.8,0.2],[0.2,0.8]] \n",
    "W_SR = [[1.0,0.0],[0.1,0.9],[0.1,0.9],[0.01,0.99]]\n",
    "\n",
    "# print(W_SR[0][1]) # 测试输出\n",
    "\n",
    "\n",
    "# 三、计算各节点的发生概率\n",
    "\n",
    "St = node_rate2(C, S_C)\n",
    "Rt = node_rate2(C, R_C)\n",
    "Wt = node_rate3(C[0][1], S_C, R_C, W_SR)\n",
    "\n",
    "print('S，R，W的发生概率:',St,Rt,Wt)\n",
    "\n",
    "\n",
    "# 四、计算解释远离的条件：P(R|S,W) ?= P(R|W)\n",
    "## P(R|S,W) = P(R,S,W)/P(S,W)\n",
    "## P(R|W) = P(R,W)/P(W)\n",
    "\n",
    "P_RSW = together_rate3(C[0][1], S_C, R_C, W_SR)\n",
    "P_SW = together_rate2(C[0][1], S_C, R_C, W_SR, 'SW')\n",
    "P_RW = together_rate2(C[0][1], S_C, R_C, W_SR, 'RW')\n",
    "P_W = Wt\n",
    "\n",
    "P_R_SW = condition_rate2(P_RSW, P_SW)\n",
    "P_R_W = condition_rate1(P_RW, P_W)\n",
    "\n",
    "print('SW均发生、RW均发生的联合概率:',P_SW,P_RW)\n",
    "\n",
    "print('P(R|S,W)=',P_R_SW)\n",
    "print('P(R|W)=',P_R_W)"
   ]
  },
  {
   "cell_type": "markdown",
   "metadata": {},
   "source": [
    "答：由结果可知，P(R|S,W) < P(R|W)，说明在这种情况下，对于事件W发生的前置事件S，R，未观察S时R的后验概率大于观察S后R的后验概率，即证据增A加并未导致信念增加，也就是R对W发生了解释远离。"
   ]
  },
  {
   "cell_type": "code",
   "execution_count": null,
   "metadata": {},
   "outputs": [],
   "source": []
  }
 ],
 "metadata": {
  "kernelspec": {
   "display_name": "Python 3",
   "language": "python",
   "name": "python3"
  },
  "language_info": {
   "codemirror_mode": {
    "name": "ipython",
    "version": 3
   },
   "file_extension": ".py",
   "mimetype": "text/x-python",
   "name": "python",
   "nbconvert_exporter": "python",
   "pygments_lexer": "ipython3",
   "version": "3.6.5"
  },
  "toc": {
   "base_numbering": 1,
   "nav_menu": {},
   "number_sections": true,
   "sideBar": true,
   "skip_h1_title": false,
   "title_cell": "Table of Contents",
   "title_sidebar": "Contents",
   "toc_cell": false,
   "toc_position": {},
   "toc_section_display": true,
   "toc_window_display": false
  }
 },
 "nbformat": 4,
 "nbformat_minor": 2
}
