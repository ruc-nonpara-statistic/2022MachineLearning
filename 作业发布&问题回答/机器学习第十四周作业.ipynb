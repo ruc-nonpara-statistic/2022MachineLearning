{
 "cells": [
  {
   "cell_type": "markdown",
   "metadata": {},
   "source": [
    "# 机器学习第十四周作业"
   ]
  },
  {
   "cell_type": "markdown",
   "metadata": {},
   "source": [
    "##  part1 SOM for TSP "
   ]
  },
  {
   "cell_type": "markdown",
   "metadata": {},
   "source": [
    "关于旅行商问题，参考SOM for TSP 代码和u1060.tsp数据，解决以下问题"
   ]
  },
  {
   "cell_type": "markdown",
   "metadata": {},
   "source": [
    "* 1.在固定神经元数目下（比如800），迭代轮数和城市个数的关系(如城市个数每次增加5个)，绘制关系曲线\n",
    "* 2.在固定城市数目的作用下（比如200），迭代轮数和神经元数目的关系（如神经元个数每次增加城市数目的20%），绘制关系曲线\n",
    "\n",
    "ps: 曲线中，迭代次数放竖轴上"
   ]
  },
  {
   "cell_type": "markdown",
   "metadata": {},
   "source": [
    "关于SOM for TSP 代码，其中神经元数目跟城市个数直接相关，做作业时需要注意更改，且其中输出的图为路线图，注意作业中不需要输出"
   ]
  },
  {
   "cell_type": "markdown",
   "metadata": {},
   "source": [
    "PS: 数据中有1060个城市，使用时注意神经元个数至少比城市个数多"
   ]
  },
  {
   "cell_type": "markdown",
   "metadata": {},
   "source": [
    "##  part 2 svm"
   ]
  },
  {
   "cell_type": "markdown",
   "metadata": {},
   "source": [
    "In this problem, you will use support vector approaches in order to\n",
    "predict whether a given car gets high or low gas mileage based on the\n",
    "**Auto** data set"
   ]
  },
  {
   "cell_type": "markdown",
   "metadata": {},
   "source": [
    "* a) Create a binary variable that takes on a 1 for cars with gas mileage above the median, and a 0 for cars with gas mileage below the median.\n",
    "* (b) Fit a support vector classifier to the data with various values of cost, in order to predict whether a car gets high or low gas mileage. Report the cross-validation errors associated with different values of this parameter. Comment on your results. Note you will need to fit the classifier without the gas mileage variable to produce sensible results.\n",
    "* (c) Now repeat (b), this time using SVMs with radial and **poly** basis kernels, with different values of gamma and degree and cost. Comment on your results.\n",
    "* (d) Make some plots to back up your assertions in (b) and (c)."
   ]
  },
  {
   "cell_type": "markdown",
   "metadata": {},
   "source": [
    "关于SVM核函数选择的额外参考：https://blog.csdn.net/c1z2w3456789/article/details/105247565"
   ]
  },
  {
   "cell_type": "code",
   "execution_count": null,
   "metadata": {},
   "outputs": [],
   "source": []
  }
 ],
 "metadata": {
  "kernelspec": {
   "display_name": "Python 3",
   "language": "python",
   "name": "python3"
  },
  "language_info": {
   "codemirror_mode": {
    "name": "ipython",
    "version": 3
   },
   "file_extension": ".py",
   "mimetype": "text/x-python",
   "name": "python",
   "nbconvert_exporter": "python",
   "pygments_lexer": "ipython3",
   "version": "3.6.5"
  },
  "toc": {
   "base_numbering": 1,
   "nav_menu": {},
   "number_sections": true,
   "sideBar": true,
   "skip_h1_title": false,
   "title_cell": "Table of Contents",
   "title_sidebar": "Contents",
   "toc_cell": false,
   "toc_position": {},
   "toc_section_display": true,
   "toc_window_display": false
  }
 },
 "nbformat": 4,
 "nbformat_minor": 2
}
