{
 "cells": [
  {
   "cell_type": "markdown",
   "metadata": {
    "toc": true
   },
   "source": [
    "<h1>Table of Contents<span class=\"tocSkip\"></span></h1>\n",
    "<div class=\"toc\"><ul class=\"toc-item\"><li><span><a href=\"#Part1\" data-toc-modified-id=\"Part1-1\"><span class=\"toc-item-num\">1&nbsp;&nbsp;</span>Part1</a></span><ul class=\"toc-item\"><li><span><a href=\"#题目1-钓鱼问题\" data-toc-modified-id=\"题目1-钓鱼问题-1.1\"><span class=\"toc-item-num\">1.1&nbsp;&nbsp;</span>题目1 钓鱼问题</a></span></li><li><span><a href=\"#题目2-手写体识别问题\" data-toc-modified-id=\"题目2-手写体识别问题-1.2\"><span class=\"toc-item-num\">1.2&nbsp;&nbsp;</span>题目2 手写体识别问题</a></span></li><li><span><a href=\"#题目3--算法比较检验问题\" data-toc-modified-id=\"题目3--算法比较检验问题-1.3\"><span class=\"toc-item-num\">1.3&nbsp;&nbsp;</span>题目3  算法比较检验问题</a></span></li></ul></li><li><span><a href=\"#Part2-ISLR书上第3章课后作业\" data-toc-modified-id=\"Part2-ISLR书上第3章课后作业-2\"><span class=\"toc-item-num\">2&nbsp;&nbsp;</span>Part2 ISLR书上第3章课后作业</a></span><ul class=\"toc-item\"><li><span><a href=\"#题目3.7.3\" data-toc-modified-id=\"题目3.7.3-2.1\"><span class=\"toc-item-num\">2.1&nbsp;&nbsp;</span>题目3.7.3</a></span></li><li><span><a href=\"#题目3.7.4\" data-toc-modified-id=\"题目3.7.4-2.2\"><span class=\"toc-item-num\">2.2&nbsp;&nbsp;</span>题目3.7.4</a></span></li><li><span><a href=\"#题目3.7.5\" data-toc-modified-id=\"题目3.7.5-2.3\"><span class=\"toc-item-num\">2.3&nbsp;&nbsp;</span>题目3.7.5</a></span></li><li><span><a href=\"#题目3.7.8\" data-toc-modified-id=\"题目3.7.8-2.4\"><span class=\"toc-item-num\">2.4&nbsp;&nbsp;</span>题目3.7.8</a></span></li></ul></li></ul></div>"
   ]
  },
  {
   "cell_type": "markdown",
   "metadata": {},
   "source": []
  },
  {
   "cell_type": "markdown",
   "metadata": {},
   "source": [
    "# Part1 "
   ]
  },
  {
   "cell_type": "markdown",
   "metadata": {},
   "source": [
    "## 题目1 钓鱼问题"
   ]
  },
  {
   "cell_type": "markdown",
   "metadata": {},
   "source": [
    "第二章课件《模型评估与选择2022part2》第36页 fishing数据集，指标介绍在第二个工作表"
   ]
  },
  {
   "cell_type": "markdown",
   "metadata": {},
   "source": [
    "## 题目2 手写体识别问题"
   ]
  },
  {
   "cell_type": "markdown",
   "metadata": {},
   "source": [
    "第二章课件《模型评估与选择2022part2》第36页 手写体识别数据集，指标介绍在第二个工作表"
   ]
  },
  {
   "cell_type": "markdown",
   "metadata": {},
   "source": [
    "## 题目3  算法比较检验问题"
   ]
  },
  {
   "cell_type": "markdown",
   "metadata": {},
   "source": [
    "第二章课件《模型评估与选择2022part2》第37页 \n",
    "第一题t检验，第二题用friedman秩检验"
   ]
  },
  {
   "cell_type": "markdown",
   "metadata": {},
   "source": [
    "Cameraman = ([26.96,25.82,24.39,22.98,21.70,20.52,19.50,18.59,17.75],\n",
    "            [27.52,26.20,24.74,23.45,22.29,21.34,20.46,19.70,19.15],\n",
    "            [28.75,26.56,24.84,23.56,22.57,21.75,21.05,20.43,19.89],\n",
    "            [27.87,26.83,25.86,24.99,24.15,23.38,22.74,22.14,21.61])"
   ]
  },
  {
   "cell_type": "markdown",
   "metadata": {},
   "source": [
    "algorithm= ([30.42,29.25,29.09,26.96,29.18],\n",
    "             [30.69,29.42,29.37,27.52,29.49],\n",
    "             [30.61,29.26,28.50,28.75,28.95],\n",
    "             [31.57,29.74,29.64,27.87,29.76])"
   ]
  },
  {
   "cell_type": "markdown",
   "metadata": {},
   "source": [
    "# Part2 ISLR书上第3章课后作业"
   ]
  },
  {
   "cell_type": "markdown",
   "metadata": {},
   "source": [
    "## 题目3.7.3"
   ]
  },
  {
   "cell_type": "markdown",
   "metadata": {},
   "source": [
    "《ISLRv2_website》第121页"
   ]
  },
  {
   "cell_type": "markdown",
   "metadata": {},
   "source": [
    "## 题目3.7.4"
   ]
  },
  {
   "cell_type": "markdown",
   "metadata": {},
   "source": [
    "《ISLRv2_website》第122页"
   ]
  },
  {
   "cell_type": "markdown",
   "metadata": {},
   "source": [
    "## 题目3.7.5"
   ]
  },
  {
   "cell_type": "markdown",
   "metadata": {},
   "source": [
    "《ISLRv2_website》第122页"
   ]
  },
  {
   "cell_type": "markdown",
   "metadata": {},
   "source": [
    "## 题目3.7.8"
   ]
  },
  {
   "cell_type": "markdown",
   "metadata": {},
   "source": [
    "《ISLRv2_website》第123页应用题 auto数据集\n",
    "注意lm()为R内代码，python代码参照上传的github内data/AILS/code内第三章代码"
   ]
  },
  {
   "cell_type": "markdown",
   "metadata": {},
   "source": [
    "ps：关于代价曲线的补充参考\n",
    "\n",
    "参考资料https://blog.csdn.net/twt9628/article/details/88711755\n",
    "\n",
    "参考资料https://blog.csdn.net/algorithmPro/article/details/83870768\n",
    "\n",
    "参考资料知乎回答第二条：https://www.zhihu.com/question/63492375/answer/247885093"
   ]
  },
  {
   "cell_type": "markdown",
   "metadata": {},
   "source": []
  },
  {
   "cell_type": "markdown",
   "metadata": {},
   "source": []
  }
 ],
 "metadata": {
  "kernelspec": {
   "display_name": "Python 3",
   "language": "python",
   "name": "python3"
  },
  "language_info": {
   "codemirror_mode": {
    "name": "ipython",
    "version": 3
   },
   "file_extension": ".py",
   "mimetype": "text/x-python",
   "name": "python",
   "nbconvert_exporter": "python",
   "pygments_lexer": "ipython3",
   "version": "3.6.5"
  },
  "toc": {
   "base_numbering": 1,
   "nav_menu": {},
   "number_sections": true,
   "sideBar": true,
   "skip_h1_title": false,
   "title_cell": "Table of Contents",
   "title_sidebar": "Contents",
   "toc_cell": true,
   "toc_position": {
    "height": "calc(100% - 180px)",
    "left": "10px",
    "top": "150px",
    "width": "165px"
   },
   "toc_section_display": true,
   "toc_window_display": false
  }
 },
 "nbformat": 4,
 "nbformat_minor": 2
}
