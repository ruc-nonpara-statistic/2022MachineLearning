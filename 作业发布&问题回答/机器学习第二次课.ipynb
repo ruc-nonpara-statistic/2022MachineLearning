{
 "cells": [
  {
   "cell_type": "markdown",
   "metadata": {
    "toc": true
   },
   "source": [
    "<h1>Table of Contents<span class=\"tocSkip\"></span></h1>\n",
    "<div class=\"toc\"><ul class=\"toc-item\"><li><span><a href=\"#1-jupyter文档创建及markdown介绍\" data-toc-modified-id=\"1-jupyter文档创建及markdown介绍-1\"><span class=\"toc-item-num\">1&nbsp;&nbsp;</span>1 jupyter文档创建及markdown介绍</a></span><ul class=\"toc-item\"><li><span><a href=\"#1.1-jupyter文档创建及jupyter页面介绍\" data-toc-modified-id=\"1.1-jupyter文档创建及jupyter页面介绍-1.1\"><span class=\"toc-item-num\">1.1&nbsp;&nbsp;</span>1.1 jupyter文档创建及jupyter页面介绍</a></span></li><li><span><a href=\"#1.2-markdown编辑方式及操作\" data-toc-modified-id=\"1.2-markdown编辑方式及操作-1.2\"><span class=\"toc-item-num\">1.2&nbsp;&nbsp;</span>1.2 markdown编辑方式及操作</a></span><ul class=\"toc-item\"><li><span><a href=\"#1.2.1-markdown分级编写规则\" data-toc-modified-id=\"1.2.1-markdown分级编写规则-1.2.1\"><span class=\"toc-item-num\">1.2.1&nbsp;&nbsp;</span>1.2.1 markdown分级编写规则</a></span></li><li><span><a href=\"#1.2.2-markdown内latex数学符号使用\" data-toc-modified-id=\"1.2.2-markdown内latex数学符号使用-1.2.2\"><span class=\"toc-item-num\">1.2.2&nbsp;&nbsp;</span>1.2.2 markdown内latex数学符号使用</a></span></li><li><span><a href=\"#1.2.3-markdown图片插入\" data-toc-modified-id=\"1.2.3-markdown图片插入-1.2.3\"><span class=\"toc-item-num\">1.2.3&nbsp;&nbsp;</span>1.2.3 markdown图片插入</a></span></li></ul></li></ul></li><li><span><a href=\"#2-python基础介绍\" data-toc-modified-id=\"2-python基础介绍-2\"><span class=\"toc-item-num\">2&nbsp;&nbsp;</span>2 python基础介绍</a></span><ul class=\"toc-item\"><li><span><a href=\"#2.1-python中模块的下载及调用\" data-toc-modified-id=\"2.1-python中模块的下载及调用-2.1\"><span class=\"toc-item-num\">2.1&nbsp;&nbsp;</span>2.1 python中模块的下载及调用</a></span></li><li><span><a href=\"#2.2-python中数据的读入、存储、调用\" data-toc-modified-id=\"2.2-python中数据的读入、存储、调用-2.2\"><span class=\"toc-item-num\">2.2&nbsp;&nbsp;</span>2.2 python中数据的读入、存储、调用</a></span><ul class=\"toc-item\"><li><span><a href=\"#2.2.1-python的输入、输出操作\" data-toc-modified-id=\"2.2.1-python的输入、输出操作-2.2.1\"><span class=\"toc-item-num\">2.2.1&nbsp;&nbsp;</span>2.2.1 python的输入、输出操作</a></span></li><li><span><a href=\"#2.2.2-python的文件读取\" data-toc-modified-id=\"2.2.2-python的文件读取-2.2.2\"><span class=\"toc-item-num\">2.2.2&nbsp;&nbsp;</span>2.2.2 python的文件读取</a></span></li></ul></li><li><span><a href=\"#2.3-python中常用模块介绍及基础语法介绍\" data-toc-modified-id=\"2.3-python中常用模块介绍及基础语法介绍-2.3\"><span class=\"toc-item-num\">2.3&nbsp;&nbsp;</span>2.3 python中常用模块介绍及基础语法介绍</a></span><ul class=\"toc-item\"><li><span><a href=\"#2.3.1-numpy模块介绍\" data-toc-modified-id=\"2.3.1-numpy模块介绍-2.3.1\"><span class=\"toc-item-num\">2.3.1&nbsp;&nbsp;</span>2.3.1 numpy模块介绍</a></span></li><li><span><a href=\"#2.3.2-pandas模块介绍\" data-toc-modified-id=\"2.3.2-pandas模块介绍-2.3.2\"><span class=\"toc-item-num\">2.3.2&nbsp;&nbsp;</span>2.3.2 pandas模块介绍</a></span></li><li><span><a href=\"#2.3.3-基础画图介绍\" data-toc-modified-id=\"2.3.3-基础画图介绍-2.3.3\"><span class=\"toc-item-num\">2.3.3&nbsp;&nbsp;</span>2.3.3 基础画图介绍</a></span></li><li><span><a href=\"#2.3.4-循环语句将、判断语句介绍\" data-toc-modified-id=\"2.3.4-循环语句将、判断语句介绍-2.3.4\"><span class=\"toc-item-num\">2.3.4&nbsp;&nbsp;</span>2.3.4 循环语句将、判断语句介绍</a></span></li><li><span><a href=\"#2.3.5-字符串处理\" data-toc-modified-id=\"2.3.5-字符串处理-2.3.5\"><span class=\"toc-item-num\">2.3.5&nbsp;&nbsp;</span>2.3.5 字符串处理</a></span></li></ul></li></ul></li><li><span><a href=\"#3-矩阵运算介绍\" data-toc-modified-id=\"3-矩阵运算介绍-3\"><span class=\"toc-item-num\">3&nbsp;&nbsp;</span>3 矩阵运算介绍</a></span><ul class=\"toc-item\"><li><span><a href=\"#3.1-矩阵的创建\" data-toc-modified-id=\"3.1-矩阵的创建-3.1\"><span class=\"toc-item-num\">3.1&nbsp;&nbsp;</span>3.1 矩阵的创建</a></span><ul class=\"toc-item\"><li><span><a href=\"#3.1.1-一维数组及多维数组的创建\" data-toc-modified-id=\"3.1.1-一维数组及多维数组的创建-3.1.1\"><span class=\"toc-item-num\">3.1.1&nbsp;&nbsp;</span>3.1.1 一维数组及多维数组的创建</a></span></li><li><span><a href=\"#3.1.2-利用内置函数创建\" data-toc-modified-id=\"3.1.2-利用内置函数创建-3.1.2\"><span class=\"toc-item-num\">3.1.2&nbsp;&nbsp;</span>3.1.2 利用内置函数创建</a></span></li><li><span><a href=\"#3.1.3-reshape创建\" data-toc-modified-id=\"3.1.3-reshape创建-3.1.3\"><span class=\"toc-item-num\">3.1.3&nbsp;&nbsp;</span>3.1.3 reshape创建</a></span></li></ul></li><li><span><a href=\"#3.2-矩阵操作\" data-toc-modified-id=\"3.2-矩阵操作-3.2\"><span class=\"toc-item-num\">3.2&nbsp;&nbsp;</span>3.2 矩阵操作</a></span><ul class=\"toc-item\"><li><span><a href=\"#3.2.1-矩阵切片与取值\" data-toc-modified-id=\"3.2.1-矩阵切片与取值-3.2.1\"><span class=\"toc-item-num\">3.2.1&nbsp;&nbsp;</span>3.2.1 矩阵切片与取值</a></span></li><li><span><a href=\"#3.2.2-矩阵的元素运算及内积\" data-toc-modified-id=\"3.2.2-矩阵的元素运算及内积-3.2.2\"><span class=\"toc-item-num\">3.2.2&nbsp;&nbsp;</span>3.2.2 矩阵的元素运算及内积</a></span></li></ul></li></ul></li></ul></div>"
   ]
  },
  {
   "cell_type": "markdown",
   "metadata": {},
   "source": [
    "# 1 jupyter文档创建及markdown介绍"
   ]
  },
  {
   "cell_type": "markdown",
   "metadata": {},
   "source": [
    "## 1.1 jupyter文档创建及jupyter页面介绍"
   ]
  },
  {
   "cell_type": "markdown",
   "metadata": {},
   "source": [
    "新文件的创建——点击右上角\"new\"进行jupyter文档、文件夹等创建\n",
    "\n",
    "![1.png](1.png)\n",
    "\n",
    "jupyter页面介绍\n",
    "\n",
    "![2.png](2.png)"
   ]
  },
  {
   "cell_type": "markdown",
   "metadata": {},
   "source": [
    "jupyter页面快捷键的使用\n",
    "\n",
    "Jupyter Notebook 有两种模式，一种是命令模式(Command Mode, 蓝色单元格)，一种是编辑模式(Edit Mode, 绿色单元格)\n",
    "\n",
    "\n",
    "进入命令模式： ESC/ Ctrl + M\n",
    "进入编辑模型： Enter/鼠标左键\n",
    "编辑快捷键：帮助-编辑快捷键\n",
    "\n",
    "\n",
    "命令模式常用快捷键：\n",
    "\n",
    "    Y —— cell切换到Code模式\n",
    "    M —— cell切换到Markdown模式\n",
    "    A —— 在当前cell的上面添加cell\n",
    "    B —— 在当前cell的下面添加cell\n",
    "    双击D —— 删除当前cell\n",
    "    F11 —— 进入全屏模式\n",
    "    H —— 进入快捷键查询帮助\n",
    "\n",
    "编辑模式常用快捷键：\n",
    "\n",
    "    回退 —— Ctrl+Z （Mac:CMD+Z）\n",
    "    重做 —— Ctrl+Y （Mac:CMD+Y)\n",
    "    补全代码 —— 变量、方法后跟 Tab键\n",
    "    为一行或多行代码添加/取消注释 —— Ctrl+/ （Mac:CMD+/）\n",
    "\n",
    "\n"
   ]
  },
  {
   "cell_type": "code",
   "execution_count": null,
   "metadata": {},
   "outputs": [],
   "source": [
    "# 这是测试代码1\n",
    "# 这是测试代码2\n"
   ]
  },
  {
   "cell_type": "markdown",
   "metadata": {},
   "source": [
    "## 1.2 markdown编辑方式及操作"
   ]
  },
  {
   "cell_type": "markdown",
   "metadata": {},
   "source": [
    "### 1.2.1 markdown分级编写规则"
   ]
  },
  {
   "cell_type": "markdown",
   "metadata": {},
   "source": [
    "标题分级：\n",
    "![](3.png)\n",
    "\n",
    "\n",
    "markdown的空一行表示：空出一行及以上\n",
    "\n",
    "markdown多空格实现：（markdown连打一串空格只会算作一个）\n",
    "\n",
    "1.使用 \\$ + \\quad + \\$ 实现$\\quad$就是这样\n",
    "\n",
    "2.使用 & + emsp; 实现&emsp;就是这样\n",
    "\n",
    "列表符号点： * + 空格 + 内容\n",
    "\n",
    "* 行一\n",
    "* 行二\n",
    "* 行三\n",
    "\n",
    "markdown加粗字体： 使用 \\** + 内容 + \\** ，成果展示——**内容**\n"
   ]
  },
  {
   "cell_type": "markdown",
   "metadata": {},
   "source": [
    "### 1.2.2 markdown内latex数学符号使用"
   ]
  },
  {
   "cell_type": "markdown",
   "metadata": {},
   "source": [
    "关于这里面的行内公式用$\\alpha=\\beta*\\theta$\n",
    "\n",
    "这里面的行间公式用法：$$\\alpha=\\beta*\\theta$$\n",
    "\n",
    "还有特殊的对齐公式：$$ \\begin{eqnarray*}\n",
    "\\cos 2 \\theta & = & \\cos^2 \\theta - \\sin^2 \\theta\\\\\n",
    "&=& 2\\cos^2 \\theta - 1 \\end{eqnarray*}$$\n",
    "\n",
    "分数的表示：$a=\\frac{b}{c}$\n",
    "\n",
    "求和符号的表示：$\\sum_{i=1}^{n} p_i$\n",
    "\n",
    "上下标的表示方式：$X_i^j$\n",
    "\n",
    "关于开方：$\\sqrt{abc}$或者$\\sqrt[2]{abc}$\n",
    "\n",
    "矩阵的显示方式：$$ \\left[ \\begin{array} {1}\n",
    "a&b&c\\\\\n",
    "d&e&f\\\\\n",
    "g&h&n\n",
    "\\end{array} \\right] $$"
   ]
  },
  {
   "cell_type": "markdown",
   "metadata": {},
   "source": [
    "* jupyter中数学符号的表示与latex相同，可以直接搜索latex的参考文档，特殊符号参考博客https://blog.csdn.net/qq_39232265/article/details/78868487\n",
    "\n",
    "* jupyter中数学公式的显示采用美元符号\n",
    "\n",
    "* 拓展参考网站https://nbviewer.jupyter.org/"
   ]
  },
  {
   "cell_type": "markdown",
   "metadata": {},
   "source": [
    "### 1.2.3 markdown图片插入"
   ]
  },
  {
   "cell_type": "markdown",
   "metadata": {},
   "source": [
    "markdown可以引入外部图片\n",
    "\n",
    "使用格式为（英文输入法下) ! + [图片标题] + (图片地址)"
   ]
  },
  {
   "cell_type": "markdown",
   "metadata": {},
   "source": [
    "# 2 python基础介绍"
   ]
  },
  {
   "cell_type": "markdown",
   "metadata": {},
   "source": [
    "## 2.1 python中模块的下载及调用"
   ]
  },
  {
   "cell_type": "markdown",
   "metadata": {},
   "source": [
    "最常用的几个模块，pandas,numpy,matplotlib.pyplot等\n",
    "\n",
    "* 关于如何确定，现在系统里面是否有某个模块，直接用import 加载试一试\n",
    "\n",
    "* 关于如何**下载这些模块**，可以打开Anaconda Prompt编辑器（可以在电脑左下角的搜索框，搜索这个名字就可以找到），\n",
    "\n",
    "![](4.png)\n",
    "\n",
    "然后命令行输入：pip install 模块名字\n",
    "\n",
    "或者如果觉得用“pip install 模块名字”   这种方式太慢的话也可以利用镜像来进行安装\n",
    "\n",
    "pip install -i https://pypi.tuna.tsinghua.edu.cn/simple pandas  #-i 表示指定源\n",
    "\n",
    "对于线上pip安装不成功的模块，可以进入https://pypi.org/ 寻找对应版本下载后线下安装 pip install \\**.whl\n",
    "\n",
    "\n",
    "注意，每个whl文件名中的cp必须与你所用的python版本对应。如cp36指的是对应python3.6版本的文件\n"
   ]
  },
  {
   "cell_type": "code",
   "execution_count": 1,
   "metadata": {},
   "outputs": [],
   "source": [
    "#模块调用\n",
    "#模块正常加载，就不会有错误提示，并且In[]这里会正常显示数字\n",
    "import random"
   ]
  },
  {
   "cell_type": "code",
   "execution_count": 2,
   "metadata": {},
   "outputs": [
    {
     "ename": "ModuleNotFoundError",
     "evalue": "No module named 'abcd'",
     "output_type": "error",
     "traceback": [
      "\u001b[1;31m---------------------------------------------------------------------------\u001b[0m",
      "\u001b[1;31mModuleNotFoundError\u001b[0m                       Traceback (most recent call last)",
      "\u001b[1;32m<ipython-input-2-5c8284d17c60>\u001b[0m in \u001b[0;36m<module>\u001b[1;34m()\u001b[0m\n\u001b[0;32m      1\u001b[0m \u001b[1;31m#通过加载模块来查看是否已经下载了这个模块，这个abcd是我自己编的，主要给大家展示，如果没有安装某个模块会有什么提示\u001b[0m\u001b[1;33m\u001b[0m\u001b[1;33m\u001b[0m\u001b[0m\n\u001b[1;32m----> 2\u001b[1;33m \u001b[1;32mimport\u001b[0m \u001b[0mabcd\u001b[0m\u001b[1;33m\u001b[0m\u001b[0m\n\u001b[0m",
      "\u001b[1;31mModuleNotFoundError\u001b[0m: No module named 'abcd'"
     ]
    }
   ],
   "source": [
    "#通过加载模块来查看是否已经下载了这个模块，这个abcd是我自己编的，主要给大家展示，如果没有安装某个模块会有什么提示\n",
    "import abcd"
   ]
  },
  {
   "cell_type": "code",
   "execution_count": 3,
   "metadata": {},
   "outputs": [
    {
     "data": {
      "text/plain": [
       "3.0"
      ]
     },
     "execution_count": 3,
     "metadata": {},
     "output_type": "execute_result"
    }
   ],
   "source": [
    "#常用加载模块的方式\n",
    "#第一种，加载整个模块\n",
    "import math\n",
    "\n",
    "math.sqrt(9)"
   ]
  },
  {
   "cell_type": "code",
   "execution_count": 4,
   "metadata": {},
   "outputs": [
    {
     "data": {
      "text/plain": [
       "10"
      ]
     },
     "execution_count": 4,
     "metadata": {},
     "output_type": "execute_result"
    }
   ],
   "source": [
    "#第二种，只从模块中加载它的一个函数\n",
    "from random import randint\n",
    "\n",
    "randint(0,10)#从0-10中产生一个随机数"
   ]
  },
  {
   "cell_type": "code",
   "execution_count": 2,
   "metadata": {},
   "outputs": [
    {
     "data": {
      "text/plain": [
       "7"
      ]
     },
     "execution_count": 2,
     "metadata": {},
     "output_type": "execute_result"
    }
   ],
   "source": [
    "#第三种，加载整个模块，但是给模块重新定一个简洁的名字\n",
    "import numpy as np\n",
    "import pandas as pd\n",
    "\n",
    "\n",
    "a=[3,5,7]\n",
    "np.max(a)\n",
    "\n"
   ]
  },
  {
   "cell_type": "code",
   "execution_count": 8,
   "metadata": {},
   "outputs": [
    {
     "data": {
      "text/plain": [
       "['In',\n",
       " 'Out',\n",
       " '_',\n",
       " '_3',\n",
       " '_4',\n",
       " '_5',\n",
       " '_6',\n",
       " '_7',\n",
       " '__',\n",
       " '___',\n",
       " '__builtin__',\n",
       " '__builtins__',\n",
       " '__doc__',\n",
       " '__loader__',\n",
       " '__name__',\n",
       " '__package__',\n",
       " '__spec__',\n",
       " '_dh',\n",
       " '_i',\n",
       " '_i1',\n",
       " '_i2',\n",
       " '_i3',\n",
       " '_i4',\n",
       " '_i5',\n",
       " '_i6',\n",
       " '_i7',\n",
       " '_i8',\n",
       " '_ih',\n",
       " '_ii',\n",
       " '_iii',\n",
       " '_oh',\n",
       " 'a',\n",
       " 'exit',\n",
       " 'get_ipython',\n",
       " 'math',\n",
       " 'np',\n",
       " 'pd',\n",
       " 'plt',\n",
       " 'quit',\n",
       " 'randint',\n",
       " 'random']"
      ]
     },
     "execution_count": 8,
     "metadata": {},
     "output_type": "execute_result"
    }
   ],
   "source": [
    "#使用dir（）查询已加载的模块\n",
    "dir()"
   ]
  },
  {
   "cell_type": "markdown",
   "metadata": {},
   "source": [
    "## 2.2 python中数据的读入、存储、调用"
   ]
  },
  {
   "cell_type": "markdown",
   "metadata": {},
   "source": [
    "### 2.2.1 python的输入、输出操作"
   ]
  },
  {
   "cell_type": "markdown",
   "metadata": {},
   "source": [
    "在Python语言的3.7.X版本中，input()函数也是从标准输入设备读取数据，只是input函数总是假设输入的内容是一个字符串。\n",
    "input函数的语法结构为：\n",
    "input(提示信息)\n",
    "通常情况下input函数会提供输入数据的提示信息，这一选项也是可以不给。"
   ]
  },
  {
   "cell_type": "code",
   "execution_count": 13,
   "metadata": {},
   "outputs": [
    {
     "name": "stdout",
     "output_type": "stream",
     "text": [
      "Input number x:1\n",
      "Input number y:2\n",
      "(1, 2)\n",
      "1 2\n"
     ]
    }
   ],
   "source": [
    "#任务：调用input函数从键盘接受数据。\n",
    "x=int(input(\"Input number x:\"))\n",
    "y=int(input(\"Input number y:\"))\n",
    "print((x,y))\n",
    "print(x,y)\n"
   ]
  },
  {
   "cell_type": "code",
   "execution_count": 12,
   "metadata": {},
   "outputs": [
    {
     "name": "stdout",
     "output_type": "stream",
     "text": [
      "Please input a number:25\n",
      "You have input a number <class 'str'> : 25\n",
      "\n",
      "\n",
      "Please input a number:hello world!\n",
      "You have input a number <class 'str'> : hello world!\n",
      "\n",
      "\n",
      "Please input a number:[2,3,4,5]\n",
      "You have input a number <class 'str'> : [2,3,4,5]\n",
      "\n",
      "\n",
      "Please input a number:35+10*26\n",
      "You have input a number <class 'str'> : 35+10*26\n"
     ]
    }
   ],
   "source": [
    "a=input('Please input a number:')\n",
    "print('You have input a number',type(a),':',a)\n",
    "print('\\n')\n",
    "a=input('Please input a number:')\n",
    "print('You have input a number',type(a),':',a)\n",
    "print('\\n')\n",
    "a=input('Please input a number:')\n",
    "print('You have input a number',type(a),':',a)\n",
    "print('\\n')\n",
    "a=input('Please input a number:')\n",
    "print('You have input a number',type(a),':',a)\n",
    "#input函数将输入的内容全部转换成字符串"
   ]
  },
  {
   "cell_type": "markdown",
   "metadata": {},
   "source": [
    "Python语言提供了多种方式展现输出结果，进行输出操作最简单的方法是使用print语句。\n",
    "\n",
    "在Python语言的3.7.X版本中，print语句必须在变量名的外面加小括号。\n",
    "3.7.X版本中print语句的语法结构为：\n",
    "print(变量1，变量2，…，变量n)\n",
    "print语句可以同时输出多个变量的内容，各个变量之间用逗号“，”分割。\n",
    "print语句将输出结果传递到一个字符串表达式，并将结果输出到标准的输出平台。"
   ]
  },
  {
   "cell_type": "code",
   "execution_count": 14,
   "metadata": {},
   "outputs": [
    {
     "name": "stdout",
     "output_type": "stream",
     "text": [
      "25 ; 34.68 ; [0, 3, 6, 9, 12] ; Hello world! ; True ; {1: 'apple', 2: 'banana', 3: 'strawberry'}\n"
     ]
    }
   ],
   "source": [
    "#任务：同时输出数字，字符串和布尔型变量的内容。\n",
    "x1=25\n",
    "x2=34.68\n",
    "x3=[i*3 for i in list(range(5))]\n",
    "x4='Hello world!'\n",
    "x5=True\n",
    "x6={1:'apple',2:'banana',3:'strawberry'}\n",
    "print(x1,';',x2,';',x3,';',x4,';',x5,';',x6)"
   ]
  },
  {
   "cell_type": "markdown",
   "metadata": {},
   "source": [
    "### 2.2.2 python的文件读取"
   ]
  },
  {
   "cell_type": "markdown",
   "metadata": {},
   "source": [
    "**使用open和readline读入**"
   ]
  },
  {
   "cell_type": "markdown",
   "metadata": {},
   "source": [
    "使用readline或readlines函数读入为文本格式"
   ]
  },
  {
   "cell_type": "code",
   "execution_count": 27,
   "metadata": {},
   "outputs": [
    {
     "name": "stdout",
     "output_type": "stream",
     "text": [
      "Header of file is: 这是一个用于测试的文本文件\n",
      " the next line is: 这是第二行\n",
      " the next line is: end\n"
     ]
    }
   ],
   "source": [
    "#任务：外部数据文件逐行统计\n",
    "file = open('测试.txt','r',encoding= \"utf-8\")\n",
    "#readline()每次读一行\n",
    "fline = file.readline()\n",
    "fline2 = file.readline()\n",
    "fline3 = file.readline()\n",
    "print('Header of file is:',fline,'the next line is:',fline2,'the next line is:',fline3)"
   ]
  },
  {
   "cell_type": "code",
   "execution_count": 33,
   "metadata": {},
   "outputs": [
    {
     "data": {
      "text/plain": [
       "3"
      ]
     },
     "execution_count": 33,
     "metadata": {},
     "output_type": "execute_result"
    }
   ],
   "source": [
    "file = open('测试.txt','r',encoding= \"utf-8\")\n",
    "#readlines()一次读完并以list形式存储\n",
    "fline = file.readlines()\n",
    "len(fline)\n"
   ]
  },
  {
   "cell_type": "code",
   "execution_count": 34,
   "metadata": {},
   "outputs": [
    {
     "name": "stdout",
     "output_type": "stream",
     "text": [
      "这是一个用于测试的文本文件\n",
      "\n",
      "这是第二行\n",
      "\n",
      "end\n"
     ]
    }
   ],
   "source": [
    "#展示fline的内容\n",
    "for t in fline:\n",
    "    print(t)"
   ]
  },
  {
   "cell_type": "code",
   "execution_count": 42,
   "metadata": {},
   "outputs": [
    {
     "data": {
      "text/plain": [
       "str"
      ]
     },
     "execution_count": 42,
     "metadata": {},
     "output_type": "execute_result"
    }
   ],
   "source": [
    "type(fline[2])"
   ]
  },
  {
   "cell_type": "markdown",
   "metadata": {},
   "source": [
    "**使用pandas模块读入**"
   ]
  },
  {
   "cell_type": "markdown",
   "metadata": {},
   "source": [
    "使用pandas模块读入后会成为数据框"
   ]
  },
  {
   "cell_type": "code",
   "execution_count": 2,
   "metadata": {},
   "outputs": [
    {
     "name": "stdout",
     "output_type": "stream",
     "text": [
      "    mpg  cylinders  displacement  horsepower  weight  acceleration  year  \\\n",
      "0  18.0          8         307.0       130.0    3504          12.0    70   \n",
      "1  15.0          8         350.0       165.0    3693          11.5    70   \n",
      "2  18.0          8         318.0       150.0    3436          11.0    70   \n",
      "3  16.0          8         304.0       150.0    3433          12.0    70   \n",
      "4  17.0          8         302.0       140.0    3449          10.5    70   \n",
      "\n",
      "   origin                       name  \n",
      "0       1  chevrolet chevelle malibu  \n",
      "1       1          buick skylark 320  \n",
      "2       1         plymouth satellite  \n",
      "3       1              amc rebel sst  \n",
      "4       1                ford torino  \n"
     ]
    }
   ],
   "source": [
    "# Load Data from your computer\n",
    "auto = pd.read_csv('Auto.csv', header=0, na_values='?')\n",
    "print(auto.head(5)) ##View top 5 rows of the data"
   ]
  },
  {
   "cell_type": "code",
   "execution_count": 40,
   "metadata": {},
   "outputs": [
    {
     "data": {
      "text/html": [
       "<div>\n",
       "<style scoped>\n",
       "    .dataframe tbody tr th:only-of-type {\n",
       "        vertical-align: middle;\n",
       "    }\n",
       "\n",
       "    .dataframe tbody tr th {\n",
       "        vertical-align: top;\n",
       "    }\n",
       "\n",
       "    .dataframe thead th {\n",
       "        text-align: right;\n",
       "    }\n",
       "</style>\n",
       "<table border=\"1\" class=\"dataframe\">\n",
       "  <thead>\n",
       "    <tr style=\"text-align: right;\">\n",
       "      <th></th>\n",
       "      <th>mpg</th>\n",
       "      <th>cylinders</th>\n",
       "      <th>displacement</th>\n",
       "      <th>horsepower</th>\n",
       "      <th>weight</th>\n",
       "      <th>acceleration</th>\n",
       "      <th>year</th>\n",
       "      <th>origin</th>\n",
       "      <th>name</th>\n",
       "    </tr>\n",
       "  </thead>\n",
       "  <tbody>\n",
       "    <tr>\n",
       "      <th>0</th>\n",
       "      <td>18.0</td>\n",
       "      <td>8</td>\n",
       "      <td>307.0</td>\n",
       "      <td>130.0</td>\n",
       "      <td>3504</td>\n",
       "      <td>12.0</td>\n",
       "      <td>70</td>\n",
       "      <td>1</td>\n",
       "      <td>chevrolet chevelle malibu</td>\n",
       "    </tr>\n",
       "    <tr>\n",
       "      <th>1</th>\n",
       "      <td>15.0</td>\n",
       "      <td>8</td>\n",
       "      <td>350.0</td>\n",
       "      <td>165.0</td>\n",
       "      <td>3693</td>\n",
       "      <td>11.5</td>\n",
       "      <td>70</td>\n",
       "      <td>1</td>\n",
       "      <td>buick skylark 320</td>\n",
       "    </tr>\n",
       "    <tr>\n",
       "      <th>2</th>\n",
       "      <td>18.0</td>\n",
       "      <td>8</td>\n",
       "      <td>318.0</td>\n",
       "      <td>150.0</td>\n",
       "      <td>3436</td>\n",
       "      <td>11.0</td>\n",
       "      <td>70</td>\n",
       "      <td>1</td>\n",
       "      <td>plymouth satellite</td>\n",
       "    </tr>\n",
       "    <tr>\n",
       "      <th>3</th>\n",
       "      <td>16.0</td>\n",
       "      <td>8</td>\n",
       "      <td>304.0</td>\n",
       "      <td>150.0</td>\n",
       "      <td>3433</td>\n",
       "      <td>12.0</td>\n",
       "      <td>70</td>\n",
       "      <td>1</td>\n",
       "      <td>amc rebel sst</td>\n",
       "    </tr>\n",
       "    <tr>\n",
       "      <th>4</th>\n",
       "      <td>17.0</td>\n",
       "      <td>8</td>\n",
       "      <td>302.0</td>\n",
       "      <td>140.0</td>\n",
       "      <td>3449</td>\n",
       "      <td>10.5</td>\n",
       "      <td>70</td>\n",
       "      <td>1</td>\n",
       "      <td>ford torino</td>\n",
       "    </tr>\n",
       "  </tbody>\n",
       "</table>\n",
       "</div>"
      ],
      "text/plain": [
       "    mpg  cylinders  displacement  horsepower  weight  acceleration  year  \\\n",
       "0  18.0          8         307.0       130.0    3504          12.0    70   \n",
       "1  15.0          8         350.0       165.0    3693          11.5    70   \n",
       "2  18.0          8         318.0       150.0    3436          11.0    70   \n",
       "3  16.0          8         304.0       150.0    3433          12.0    70   \n",
       "4  17.0          8         302.0       140.0    3449          10.5    70   \n",
       "\n",
       "   origin                       name  \n",
       "0       1  chevrolet chevelle malibu  \n",
       "1       1          buick skylark 320  \n",
       "2       1         plymouth satellite  \n",
       "3       1              amc rebel sst  \n",
       "4       1                ford torino  "
      ]
     },
     "execution_count": 40,
     "metadata": {},
     "output_type": "execute_result"
    }
   ],
   "source": [
    "auto.head()"
   ]
  },
  {
   "cell_type": "code",
   "execution_count": 41,
   "metadata": {},
   "outputs": [
    {
     "data": {
      "text/html": [
       "<div>\n",
       "<style scoped>\n",
       "    .dataframe tbody tr th:only-of-type {\n",
       "        vertical-align: middle;\n",
       "    }\n",
       "\n",
       "    .dataframe tbody tr th {\n",
       "        vertical-align: top;\n",
       "    }\n",
       "\n",
       "    .dataframe thead th {\n",
       "        text-align: right;\n",
       "    }\n",
       "</style>\n",
       "<table border=\"1\" class=\"dataframe\">\n",
       "  <thead>\n",
       "    <tr style=\"text-align: right;\">\n",
       "      <th></th>\n",
       "      <th>mpg</th>\n",
       "      <th>cylinders</th>\n",
       "      <th>displacement</th>\n",
       "      <th>horsepower</th>\n",
       "      <th>weight</th>\n",
       "      <th>acceleration</th>\n",
       "      <th>year</th>\n",
       "      <th>origin</th>\n",
       "      <th>name</th>\n",
       "    </tr>\n",
       "  </thead>\n",
       "  <tbody>\n",
       "    <tr>\n",
       "      <th>394</th>\n",
       "      <td>32.0</td>\n",
       "      <td>4</td>\n",
       "      <td>135.0</td>\n",
       "      <td>84</td>\n",
       "      <td>2295</td>\n",
       "      <td>11.6</td>\n",
       "      <td>82</td>\n",
       "      <td>1</td>\n",
       "      <td>dodge rampage</td>\n",
       "    </tr>\n",
       "    <tr>\n",
       "      <th>395</th>\n",
       "      <td>28.0</td>\n",
       "      <td>4</td>\n",
       "      <td>120.0</td>\n",
       "      <td>79</td>\n",
       "      <td>2625</td>\n",
       "      <td>18.6</td>\n",
       "      <td>82</td>\n",
       "      <td>1</td>\n",
       "      <td>ford ranger</td>\n",
       "    </tr>\n",
       "    <tr>\n",
       "      <th>396</th>\n",
       "      <td>31.0</td>\n",
       "      <td>4</td>\n",
       "      <td>119.0</td>\n",
       "      <td>82</td>\n",
       "      <td>2720</td>\n",
       "      <td>19.4</td>\n",
       "      <td>82</td>\n",
       "      <td>1</td>\n",
       "      <td>chevy s-10</td>\n",
       "    </tr>\n",
       "  </tbody>\n",
       "</table>\n",
       "</div>"
      ],
      "text/plain": [
       "      mpg  cylinders  displacement horsepower  weight  acceleration  year  \\\n",
       "394  32.0          4         135.0         84    2295          11.6    82   \n",
       "395  28.0          4         120.0         79    2625          18.6    82   \n",
       "396  31.0          4         119.0         82    2720          19.4    82   \n",
       "\n",
       "     origin           name  \n",
       "394       1  dodge rampage  \n",
       "395       1    ford ranger  \n",
       "396       1     chevy s-10  "
      ]
     },
     "execution_count": 41,
     "metadata": {},
     "output_type": "execute_result"
    }
   ],
   "source": [
    "auto=pd.read_excel('auto.xlsx')\n",
    "auto.tail(3)#显示数据的后三行"
   ]
  },
  {
   "cell_type": "markdown",
   "metadata": {},
   "source": [
    "**json文件读入**"
   ]
  },
  {
   "cell_type": "code",
   "execution_count": 16,
   "metadata": {},
   "outputs": [
    {
     "name": "stdout",
     "output_type": "stream",
     "text": [
      "Original dataframe is:\n",
      "        Python  C++   R  Java\n",
      "Peter      61   60  83    81\n",
      "Tiger      62   71  99    96\n",
      "Kevin      99   67  76    88\n"
     ]
    }
   ],
   "source": [
    "#任务：JSON文件的读写\n",
    "'''写入JSON文件'''\n",
    "dfrm=pd.DataFrame(data=np.random.randint(60,100,size=(3,4)),index=['Peter','Tiger','Kevin'],columns=['Python','C++','R','Java'])\n",
    "print('Original dataframe is:\\n',dfrm)\n",
    "dfrm.to_json('df_json.json')\n"
   ]
  },
  {
   "cell_type": "code",
   "execution_count": 17,
   "metadata": {},
   "outputs": [
    {
     "name": "stdout",
     "output_type": "stream",
     "text": [
      "\n",
      "JSON数据字符串形式输出：\n",
      "{\"Python\":{\"Peter\":61,\"Tiger\":62,\"Kevin\":99},\"C++\":{\"Peter\":60,\"Tiger\":71,\"Kevin\":67},\"R\":{\"Peter\":83,\"Tiger\":99,\"Kevin\":76},\"Java\":{\"Peter\":81,\"Tiger\":96,\"Kevin\":88}}\n",
      "\n",
      "JSON数据字典形式输出：\n",
      "The content is:\n",
      " Python : {'Peter': 61, 'Tiger': 62, 'Kevin': 99}\n",
      "The content is:\n",
      " C++ : {'Peter': 60, 'Tiger': 71, 'Kevin': 67}\n",
      "The content is:\n",
      " R : {'Peter': 83, 'Tiger': 99, 'Kevin': 76}\n",
      "The content is:\n",
      " Java : {'Peter': 81, 'Tiger': 96, 'Kevin': 88}\n",
      "\n",
      "JSON数据DataFrame形式输出：\n",
      "Content along dataframe is:\n",
      "        Python  C++   R  Java\n",
      "Kevin      99   67  76    88\n",
      "Peter      61   60  83    81\n",
      "Tiger      62   71  99    96\n"
     ]
    }
   ],
   "source": [
    "'''1、读取JSON文件内容方式一：读取为字典格式'''\n",
    "f1=open('df_json.json','r')\n",
    "text=f1.read()\n",
    "print('\\nJSON数据字符串形式输出：')\n",
    "print(text)\n",
    "\n",
    "#loads函数\n",
    "text=pd.io.json.loads(text)\n",
    "\n",
    "print('\\nJSON数据字典形式输出：')\n",
    "for (key,value) in text.items():\n",
    "    print('The content is:\\n',key,':',value)\n",
    "jdfrm=pd.DataFrame(text)\n",
    "print('\\nJSON数据DataFrame形式输出：')\n",
    "print('Content along dataframe is:\\n',jdfrm)\n"
   ]
  },
  {
   "cell_type": "code",
   "execution_count": 18,
   "metadata": {},
   "outputs": [
    {
     "name": "stdout",
     "output_type": "stream",
     "text": [
      "\n",
      "直接JSON数据方式读取，DataFrame形式输出：\n",
      "Direct to dataframe is:\n",
      "        Python  C++   R  Java\n",
      "Kevin      99   67  76    88\n",
      "Peter      61   60  83    81\n",
      "Tiger      62   71  99    96\n"
     ]
    }
   ],
   "source": [
    "'''2、读取JSON文件内容方式二：直接转换数据格式'''\n",
    "print('\\n直接JSON数据方式读取，DataFrame形式输出：')\n",
    "jdfrm1=pd.read_json('df_json.json')\n",
    "print('Direct to dataframe is:\\n',jdfrm1)"
   ]
  },
  {
   "cell_type": "markdown",
   "metadata": {},
   "source": [
    "## 2.3 python中常用模块介绍及基础语法介绍"
   ]
  },
  {
   "cell_type": "markdown",
   "metadata": {},
   "source": [
    "Python语言中构造Dataframe和Matrix两种数据结构，以及对这两种数据结构的操作主要涉及numpy、scipy、sympy、pandas四个模块。\n",
    "其中numpy模块主要提供Matrix数据结构的构造以及相关操作的功能；\n",
    "scipy和sympy主要针对numpy模块中创建的Matrix提供统计计算的功能；\n",
    "pandas模块主要提供Dataframe数据结构的构造以及相关操作的功能。"
   ]
  },
  {
   "cell_type": "markdown",
   "metadata": {},
   "source": [
    "### 2.3.1 numpy模块介绍"
   ]
  },
  {
   "cell_type": "markdown",
   "metadata": {},
   "source": [
    "**使用numpy创建一维数组**"
   ]
  },
  {
   "cell_type": "code",
   "execution_count": 3,
   "metadata": {},
   "outputs": [
    {
     "name": "stdout",
     "output_type": "stream",
     "text": [
      "[11 23 30 12  5 24 44 10  6]\n"
     ]
    }
   ],
   "source": [
    "a=np.array([11,23,30,12,5,24,44,10,6])\n",
    "print(a)\n"
   ]
  },
  {
   "cell_type": "code",
   "execution_count": 4,
   "metadata": {},
   "outputs": [
    {
     "data": {
      "text/plain": [
       "numpy.ndarray"
      ]
     },
     "execution_count": 4,
     "metadata": {},
     "output_type": "execute_result"
    }
   ],
   "source": [
    "#查看类型\n",
    "type(a)"
   ]
  },
  {
   "cell_type": "code",
   "execution_count": 5,
   "metadata": {},
   "outputs": [
    {
     "data": {
      "text/plain": [
       "dtype('int32')"
      ]
     },
     "execution_count": 5,
     "metadata": {},
     "output_type": "execute_result"
    }
   ],
   "source": [
    "a.dtype #查看数组a内的元素是什么类型"
   ]
  },
  {
   "cell_type": "code",
   "execution_count": 6,
   "metadata": {},
   "outputs": [
    {
     "data": {
      "text/plain": [
       "array([11, 23, 30, 12,  5, 24, 44, 10,  6])"
      ]
     },
     "execution_count": 6,
     "metadata": {},
     "output_type": "execute_result"
    }
   ],
   "source": [
    "a"
   ]
  },
  {
   "cell_type": "code",
   "execution_count": 7,
   "metadata": {},
   "outputs": [
    {
     "data": {
      "text/plain": [
       "9"
      ]
     },
     "execution_count": 7,
     "metadata": {},
     "output_type": "execute_result"
    }
   ],
   "source": [
    "a.size"
   ]
  },
  {
   "cell_type": "code",
   "execution_count": 8,
   "metadata": {},
   "outputs": [
    {
     "data": {
      "text/plain": [
       "9"
      ]
     },
     "execution_count": 8,
     "metadata": {},
     "output_type": "execute_result"
    }
   ],
   "source": [
    "len(a)"
   ]
  },
  {
   "cell_type": "code",
   "execution_count": 9,
   "metadata": {},
   "outputs": [
    {
     "name": "stdout",
     "output_type": "stream",
     "text": [
      "a的第一个值 11\n",
      "a从右往左第一个值 6\n",
      "a的第2-4个值 [23 30 12]\n",
      "a的离散取值，只取第2个、第5个和第8个 [23  5 10]\n"
     ]
    }
   ],
   "source": [
    "#索引\n",
    "#注意索引从0开始\n",
    "print('a的第一个值',a[0])\n",
    "print('a从右往左第一个值',a[-1])\n",
    "\n",
    "#切片\n",
    "print('a的第2-4个值',a[1:4])#这里其实取得是a[1],a[2],a[3]，包含左边不包含右边\n",
    "\n",
    "index=[1,4,7]\n",
    "print('a的离散取值，只取第2个、第5个和第8个',a[index])"
   ]
  },
  {
   "cell_type": "markdown",
   "metadata": {},
   "source": [
    "**numpy的其他方法**"
   ]
  },
  {
   "cell_type": "code",
   "execution_count": 11,
   "metadata": {},
   "outputs": [
    {
     "name": "stdout",
     "output_type": "stream",
     "text": [
      "[1 6 2]\n",
      "[1 4 3]\n",
      "[1.         2.         1.73205081]\n",
      "[ 1 36  4]\n"
     ]
    }
   ],
   "source": [
    "#创建x、y数组\n",
    "x = np.array([1,6,2])\n",
    "print(x)\n",
    "y = np.array([1,4,3])\n",
    "print(y)\n",
    "\n",
    "#开方\n",
    "a = np.sqrt(y)\n",
    "print(a)\n",
    "\n",
    "#平方\n",
    "b = x**2\n",
    "print(b)"
   ]
  },
  {
   "cell_type": "code",
   "execution_count": 53,
   "metadata": {},
   "outputs": [
    {
     "name": "stdout",
     "output_type": "stream",
     "text": [
      "[ 0.23166462  0.8559608  -0.39081428  0.78087624  0.45527766 -0.48884435\n",
      " -0.66655819  0.70072587  0.21262127  0.82693814 -1.34794657  1.12207831\n",
      " -0.250757   -1.22590403 -1.87587088 -0.52196576  0.00505999 -0.90621941\n",
      " -0.35103189  0.99183432 -0.4894767  -0.77437388  0.68822274 -1.69561144\n",
      "  0.13130978 -0.42321432 -0.27872024 -2.01679968 -0.17531669 -0.38227967\n",
      " -0.10409251  1.83525577 -0.19017026 -0.147773   -0.67480533 -1.17886914\n",
      " -0.16576937  1.13888568  0.95048055  0.01529659 -0.82350684 -1.69545423\n",
      " -0.31266518 -2.41527872 -0.98828915 -0.44123938  0.58516799 -0.9155513\n",
      "  0.26464143 -0.5103666 ]\n"
     ]
    }
   ],
   "source": [
    "#生成指定正态分布随机数\n",
    "#size = 50，标准正态\n",
    "x = np.random.normal(0, 1, 50)\n",
    "print(x)"
   ]
  },
  {
   "cell_type": "code",
   "execution_count": 54,
   "metadata": {},
   "outputs": [
    {
     "name": "stdout",
     "output_type": "stream",
     "text": [
      "[50.2068342  50.75148002 49.52030508 50.74131363 50.52691484 49.48105909\n",
      " 49.39343177 50.93005238 50.20579636 50.75930466 48.54256894 51.07646724\n",
      " 49.70947437 48.78076709 47.93807142 49.35732466 50.02385112 49.45959714\n",
      " 49.60670724 50.94065969 49.55967758 49.52262444 50.66364186 48.22741141\n",
      " 50.15280055 49.57428049 49.58221116 47.85953498 49.78135911 49.69642113\n",
      " 49.90705846 52.00265776 49.82760206 49.89827859 49.26569217 48.68061446\n",
      " 49.72362569 51.09922618 50.90495609 49.99961432 49.06401542 48.35929378\n",
      " 49.60014887 47.6997862  49.13053324 49.66919717 50.53115567 49.05926728\n",
      " 50.34853865 49.38730485]\n"
     ]
    }
   ],
   "source": [
    "#size = 50，均值50，方差为0.1的正态分布与x的混合\n",
    "y = x + np.random.normal(50, 0.1, 50)\n",
    "print(y)"
   ]
  },
  {
   "cell_type": "code",
   "execution_count": 55,
   "metadata": {},
   "outputs": [
    {
     "data": {
      "text/plain": [
       "0.9927378646080146"
      ]
     },
     "execution_count": 55,
     "metadata": {},
     "output_type": "execute_result"
    }
   ],
   "source": [
    "#计算相关系数\n",
    "\n",
    "np.corrcoef(x, y)[0,1]"
   ]
  },
  {
   "cell_type": "markdown",
   "metadata": {},
   "source": [
    "### 2.3.2 pandas模块介绍"
   ]
  },
  {
   "cell_type": "markdown",
   "metadata": {},
   "source": [
    "**使用pandas创建数据框**"
   ]
  },
  {
   "cell_type": "code",
   "execution_count": 64,
   "metadata": {},
   "outputs": [
    {
     "data": {
      "text/html": [
       "<div>\n",
       "<style scoped>\n",
       "    .dataframe tbody tr th:only-of-type {\n",
       "        vertical-align: middle;\n",
       "    }\n",
       "\n",
       "    .dataframe tbody tr th {\n",
       "        vertical-align: top;\n",
       "    }\n",
       "\n",
       "    .dataframe thead th {\n",
       "        text-align: right;\n",
       "    }\n",
       "</style>\n",
       "<table border=\"1\" class=\"dataframe\">\n",
       "  <thead>\n",
       "    <tr style=\"text-align: right;\">\n",
       "      <th></th>\n",
       "      <th>l1</th>\n",
       "      <th>l2</th>\n",
       "      <th>l3</th>\n",
       "    </tr>\n",
       "  </thead>\n",
       "  <tbody>\n",
       "    <tr>\n",
       "      <th>one</th>\n",
       "      <td>1</td>\n",
       "      <td>2</td>\n",
       "      <td>3</td>\n",
       "    </tr>\n",
       "    <tr>\n",
       "      <th>two</th>\n",
       "      <td>4</td>\n",
       "      <td>5</td>\n",
       "      <td>6</td>\n",
       "    </tr>\n",
       "    <tr>\n",
       "      <th>three</th>\n",
       "      <td>6</td>\n",
       "      <td>7</td>\n",
       "      <td>8</td>\n",
       "    </tr>\n",
       "  </tbody>\n",
       "</table>\n",
       "</div>"
      ],
      "text/plain": [
       "       l1  l2  l3\n",
       "one     1   2   3\n",
       "two     4   5   6\n",
       "three   6   7   8"
      ]
     },
     "execution_count": 64,
     "metadata": {},
     "output_type": "execute_result"
    }
   ],
   "source": [
    "#利用数组(多维)创建数据框\n",
    "import pandas as pd\n",
    "b=np.array([1,2,3,4,5,6,6,7,8]).reshape(3,3)\n",
    "data1=pd.DataFrame(b,columns=['l1','l2','l3'],index=['one','two','three'])\n",
    "data1"
   ]
  },
  {
   "cell_type": "code",
   "execution_count": 65,
   "metadata": {},
   "outputs": [
    {
     "data": {
      "text/html": [
       "<div>\n",
       "<style scoped>\n",
       "    .dataframe tbody tr th:only-of-type {\n",
       "        vertical-align: middle;\n",
       "    }\n",
       "\n",
       "    .dataframe tbody tr th {\n",
       "        vertical-align: top;\n",
       "    }\n",
       "\n",
       "    .dataframe thead th {\n",
       "        text-align: right;\n",
       "    }\n",
       "</style>\n",
       "<table border=\"1\" class=\"dataframe\">\n",
       "  <thead>\n",
       "    <tr style=\"text-align: right;\">\n",
       "      <th></th>\n",
       "      <th>name1</th>\n",
       "      <th>age1</th>\n",
       "      <th>gender1</th>\n",
       "    </tr>\n",
       "  </thead>\n",
       "  <tbody>\n",
       "    <tr>\n",
       "      <th>A1</th>\n",
       "      <td>1</td>\n",
       "      <td>2</td>\n",
       "      <td>3</td>\n",
       "    </tr>\n",
       "    <tr>\n",
       "      <th>B1</th>\n",
       "      <td>4</td>\n",
       "      <td>5</td>\n",
       "      <td>6</td>\n",
       "    </tr>\n",
       "    <tr>\n",
       "      <th>C1</th>\n",
       "      <td>6</td>\n",
       "      <td>7</td>\n",
       "      <td>8</td>\n",
       "    </tr>\n",
       "  </tbody>\n",
       "</table>\n",
       "</div>"
      ],
      "text/plain": [
       "    name1  age1  gender1\n",
       "A1      1     2        3\n",
       "B1      4     5        6\n",
       "C1      6     7        8"
      ]
     },
     "execution_count": 65,
     "metadata": {},
     "output_type": "execute_result"
    }
   ],
   "source": [
    "#可以后续修改列名和行名\n",
    "data1.index=['A1','B1','C1']\n",
    "data1.columns=['name1','age1','gender1']\n",
    "data1"
   ]
  },
  {
   "cell_type": "code",
   "execution_count": 67,
   "metadata": {},
   "outputs": [
    {
     "data": {
      "text/plain": [
       "pandas.core.frame.DataFrame"
      ]
     },
     "execution_count": 67,
     "metadata": {},
     "output_type": "execute_result"
    }
   ],
   "source": [
    "type(data1) #查看变量类型"
   ]
  },
  {
   "cell_type": "code",
   "execution_count": 68,
   "metadata": {},
   "outputs": [
    {
     "data": {
      "text/html": [
       "<div>\n",
       "<style scoped>\n",
       "    .dataframe tbody tr th:only-of-type {\n",
       "        vertical-align: middle;\n",
       "    }\n",
       "\n",
       "    .dataframe tbody tr th {\n",
       "        vertical-align: top;\n",
       "    }\n",
       "\n",
       "    .dataframe thead th {\n",
       "        text-align: right;\n",
       "    }\n",
       "</style>\n",
       "<table border=\"1\" class=\"dataframe\">\n",
       "  <thead>\n",
       "    <tr style=\"text-align: right;\">\n",
       "      <th></th>\n",
       "      <th>name1</th>\n",
       "    </tr>\n",
       "  </thead>\n",
       "  <tbody>\n",
       "    <tr>\n",
       "      <th>A1</th>\n",
       "      <td>1</td>\n",
       "    </tr>\n",
       "    <tr>\n",
       "      <th>B1</th>\n",
       "      <td>4</td>\n",
       "    </tr>\n",
       "    <tr>\n",
       "      <th>C1</th>\n",
       "      <td>6</td>\n",
       "    </tr>\n",
       "  </tbody>\n",
       "</table>\n",
       "</div>"
      ],
      "text/plain": [
       "    name1\n",
       "A1      1\n",
       "B1      4\n",
       "C1      6"
      ]
     },
     "execution_count": 68,
     "metadata": {},
     "output_type": "execute_result"
    }
   ],
   "source": [
    "#索引\n",
    "data1[['name1']]#取列"
   ]
  },
  {
   "cell_type": "code",
   "execution_count": 69,
   "metadata": {},
   "outputs": [
    {
     "data": {
      "text/html": [
       "<div>\n",
       "<style scoped>\n",
       "    .dataframe tbody tr th:only-of-type {\n",
       "        vertical-align: middle;\n",
       "    }\n",
       "\n",
       "    .dataframe tbody tr th {\n",
       "        vertical-align: top;\n",
       "    }\n",
       "\n",
       "    .dataframe thead th {\n",
       "        text-align: right;\n",
       "    }\n",
       "</style>\n",
       "<table border=\"1\" class=\"dataframe\">\n",
       "  <thead>\n",
       "    <tr style=\"text-align: right;\">\n",
       "      <th></th>\n",
       "      <th>name1</th>\n",
       "      <th>age1</th>\n",
       "      <th>gender1</th>\n",
       "    </tr>\n",
       "  </thead>\n",
       "  <tbody>\n",
       "    <tr>\n",
       "      <th>A1</th>\n",
       "      <td>1</td>\n",
       "      <td>2</td>\n",
       "      <td>3</td>\n",
       "    </tr>\n",
       "  </tbody>\n",
       "</table>\n",
       "</div>"
      ],
      "text/plain": [
       "    name1  age1  gender1\n",
       "A1      1     2        3"
      ]
     },
     "execution_count": 69,
     "metadata": {},
     "output_type": "execute_result"
    }
   ],
   "source": [
    "data1[0:1] #取第一行，必须按照切片方式0:1"
   ]
  },
  {
   "cell_type": "code",
   "execution_count": 74,
   "metadata": {},
   "outputs": [
    {
     "data": {
      "text/html": [
       "<div>\n",
       "<style scoped>\n",
       "    .dataframe tbody tr th:only-of-type {\n",
       "        vertical-align: middle;\n",
       "    }\n",
       "\n",
       "    .dataframe tbody tr th {\n",
       "        vertical-align: top;\n",
       "    }\n",
       "\n",
       "    .dataframe thead th {\n",
       "        text-align: right;\n",
       "    }\n",
       "</style>\n",
       "<table border=\"1\" class=\"dataframe\">\n",
       "  <thead>\n",
       "    <tr style=\"text-align: right;\">\n",
       "      <th></th>\n",
       "      <th>name1</th>\n",
       "      <th>age1</th>\n",
       "      <th>gender1</th>\n",
       "    </tr>\n",
       "  </thead>\n",
       "  <tbody>\n",
       "    <tr>\n",
       "      <th>A1</th>\n",
       "      <td>1</td>\n",
       "      <td>2</td>\n",
       "      <td>3</td>\n",
       "    </tr>\n",
       "    <tr>\n",
       "      <th>B1</th>\n",
       "      <td>4</td>\n",
       "      <td>5</td>\n",
       "      <td>6</td>\n",
       "    </tr>\n",
       "  </tbody>\n",
       "</table>\n",
       "</div>"
      ],
      "text/plain": [
       "    name1  age1  gender1\n",
       "A1      1     2        3\n",
       "B1      4     5        6"
      ]
     },
     "execution_count": 74,
     "metadata": {},
     "output_type": "execute_result"
    }
   ],
   "source": [
    "#这里loc指的是location,借用标签进行取值\n",
    "data1.loc[['A1','B1' ] , :]"
   ]
  },
  {
   "cell_type": "code",
   "execution_count": 71,
   "metadata": {},
   "outputs": [
    {
     "data": {
      "text/html": [
       "<div>\n",
       "<style scoped>\n",
       "    .dataframe tbody tr th:only-of-type {\n",
       "        vertical-align: middle;\n",
       "    }\n",
       "\n",
       "    .dataframe tbody tr th {\n",
       "        vertical-align: top;\n",
       "    }\n",
       "\n",
       "    .dataframe thead th {\n",
       "        text-align: right;\n",
       "    }\n",
       "</style>\n",
       "<table border=\"1\" class=\"dataframe\">\n",
       "  <thead>\n",
       "    <tr style=\"text-align: right;\">\n",
       "      <th></th>\n",
       "      <th>name1</th>\n",
       "      <th>age1</th>\n",
       "    </tr>\n",
       "  </thead>\n",
       "  <tbody>\n",
       "    <tr>\n",
       "      <th>A1</th>\n",
       "      <td>1</td>\n",
       "      <td>2</td>\n",
       "    </tr>\n",
       "    <tr>\n",
       "      <th>B1</th>\n",
       "      <td>4</td>\n",
       "      <td>5</td>\n",
       "    </tr>\n",
       "    <tr>\n",
       "      <th>C1</th>\n",
       "      <td>6</td>\n",
       "      <td>7</td>\n",
       "    </tr>\n",
       "  </tbody>\n",
       "</table>\n",
       "</div>"
      ],
      "text/plain": [
       "    name1  age1\n",
       "A1      1     2\n",
       "B1      4     5\n",
       "C1      6     7"
      ]
     },
     "execution_count": 71,
     "metadata": {},
     "output_type": "execute_result"
    }
   ],
   "source": [
    "data1.loc[ :  , ['name1','age1']]"
   ]
  },
  {
   "cell_type": "code",
   "execution_count": 75,
   "metadata": {},
   "outputs": [
    {
     "name": "stdout",
     "output_type": "stream",
     "text": [
      "mpg             0\n",
      "cylinders       0\n",
      "displacement    0\n",
      "horsepower      0\n",
      "weight          0\n",
      "acceleration    0\n",
      "year            0\n",
      "origin          0\n",
      "name            0\n",
      "dtype: int64\n"
     ]
    }
   ],
   "source": [
    "#对数据框使用isnull()判断NA值并统计\n",
    "print(auto.isnull().sum()) ##Know count of missing observations in each column"
   ]
  },
  {
   "cell_type": "code",
   "execution_count": 78,
   "metadata": {},
   "outputs": [
    {
     "data": {
      "text/html": [
       "<div>\n",
       "<style scoped>\n",
       "    .dataframe tbody tr th:only-of-type {\n",
       "        vertical-align: middle;\n",
       "    }\n",
       "\n",
       "    .dataframe tbody tr th {\n",
       "        vertical-align: top;\n",
       "    }\n",
       "\n",
       "    .dataframe thead th {\n",
       "        text-align: right;\n",
       "    }\n",
       "</style>\n",
       "<table border=\"1\" class=\"dataframe\">\n",
       "  <thead>\n",
       "    <tr style=\"text-align: right;\">\n",
       "      <th></th>\n",
       "      <th>mpg</th>\n",
       "      <th>cylinders</th>\n",
       "      <th>displacement</th>\n",
       "      <th>weight</th>\n",
       "      <th>acceleration</th>\n",
       "      <th>year</th>\n",
       "      <th>origin</th>\n",
       "    </tr>\n",
       "  </thead>\n",
       "  <tbody>\n",
       "    <tr>\n",
       "      <th>count</th>\n",
       "      <td>397.000000</td>\n",
       "      <td>397.000000</td>\n",
       "      <td>397.000000</td>\n",
       "      <td>397.000000</td>\n",
       "      <td>397.000000</td>\n",
       "      <td>397.000000</td>\n",
       "      <td>397.000000</td>\n",
       "    </tr>\n",
       "    <tr>\n",
       "      <th>mean</th>\n",
       "      <td>23.515869</td>\n",
       "      <td>5.458438</td>\n",
       "      <td>193.532746</td>\n",
       "      <td>2970.261965</td>\n",
       "      <td>15.555668</td>\n",
       "      <td>75.994962</td>\n",
       "      <td>1.574307</td>\n",
       "    </tr>\n",
       "    <tr>\n",
       "      <th>std</th>\n",
       "      <td>7.825804</td>\n",
       "      <td>1.701577</td>\n",
       "      <td>104.379583</td>\n",
       "      <td>847.904119</td>\n",
       "      <td>2.749995</td>\n",
       "      <td>3.690005</td>\n",
       "      <td>0.802549</td>\n",
       "    </tr>\n",
       "    <tr>\n",
       "      <th>min</th>\n",
       "      <td>9.000000</td>\n",
       "      <td>3.000000</td>\n",
       "      <td>68.000000</td>\n",
       "      <td>1613.000000</td>\n",
       "      <td>8.000000</td>\n",
       "      <td>70.000000</td>\n",
       "      <td>1.000000</td>\n",
       "    </tr>\n",
       "    <tr>\n",
       "      <th>25%</th>\n",
       "      <td>17.500000</td>\n",
       "      <td>4.000000</td>\n",
       "      <td>104.000000</td>\n",
       "      <td>2223.000000</td>\n",
       "      <td>13.800000</td>\n",
       "      <td>73.000000</td>\n",
       "      <td>1.000000</td>\n",
       "    </tr>\n",
       "    <tr>\n",
       "      <th>50%</th>\n",
       "      <td>23.000000</td>\n",
       "      <td>4.000000</td>\n",
       "      <td>146.000000</td>\n",
       "      <td>2800.000000</td>\n",
       "      <td>15.500000</td>\n",
       "      <td>76.000000</td>\n",
       "      <td>1.000000</td>\n",
       "    </tr>\n",
       "    <tr>\n",
       "      <th>75%</th>\n",
       "      <td>29.000000</td>\n",
       "      <td>8.000000</td>\n",
       "      <td>262.000000</td>\n",
       "      <td>3609.000000</td>\n",
       "      <td>17.100000</td>\n",
       "      <td>79.000000</td>\n",
       "      <td>2.000000</td>\n",
       "    </tr>\n",
       "    <tr>\n",
       "      <th>max</th>\n",
       "      <td>46.600000</td>\n",
       "      <td>8.000000</td>\n",
       "      <td>455.000000</td>\n",
       "      <td>5140.000000</td>\n",
       "      <td>24.800000</td>\n",
       "      <td>82.000000</td>\n",
       "      <td>3.000000</td>\n",
       "    </tr>\n",
       "  </tbody>\n",
       "</table>\n",
       "</div>"
      ],
      "text/plain": [
       "              mpg   cylinders  displacement       weight  acceleration  \\\n",
       "count  397.000000  397.000000    397.000000   397.000000    397.000000   \n",
       "mean    23.515869    5.458438    193.532746  2970.261965     15.555668   \n",
       "std      7.825804    1.701577    104.379583   847.904119      2.749995   \n",
       "min      9.000000    3.000000     68.000000  1613.000000      8.000000   \n",
       "25%     17.500000    4.000000    104.000000  2223.000000     13.800000   \n",
       "50%     23.000000    4.000000    146.000000  2800.000000     15.500000   \n",
       "75%     29.000000    8.000000    262.000000  3609.000000     17.100000   \n",
       "max     46.600000    8.000000    455.000000  5140.000000     24.800000   \n",
       "\n",
       "             year      origin  \n",
       "count  397.000000  397.000000  \n",
       "mean    75.994962    1.574307  \n",
       "std      3.690005    0.802549  \n",
       "min     70.000000    1.000000  \n",
       "25%     73.000000    1.000000  \n",
       "50%     76.000000    1.000000  \n",
       "75%     79.000000    2.000000  \n",
       "max     82.000000    3.000000  "
      ]
     },
     "execution_count": 78,
     "metadata": {},
     "output_type": "execute_result"
    }
   ],
   "source": [
    "#使用describe方法进行描述统计\n",
    "auto.describe() ##Summary statistics of the data"
   ]
  },
  {
   "cell_type": "markdown",
   "metadata": {},
   "source": [
    "**测试**\n",
    "\n",
    "请自行使用pandas读入auto数据集并取出第100条记录的year、weight信息"
   ]
  },
  {
   "cell_type": "code",
   "execution_count": 3,
   "metadata": {},
   "outputs": [
    {
     "data": {
      "text/plain": [
       "year        73\n",
       "weight    3021\n",
       "Name: 100, dtype: object"
      ]
     },
     "execution_count": 3,
     "metadata": {},
     "output_type": "execute_result"
    }
   ],
   "source": [
    "auto.loc[100,['year','weight']]"
   ]
  },
  {
   "cell_type": "markdown",
   "metadata": {},
   "source": [
    "### 2.3.3 基础画图介绍"
   ]
  },
  {
   "cell_type": "code",
   "execution_count": 79,
   "metadata": {},
   "outputs": [
    {
     "data": {
      "image/png": "[encoded data removed]",
      "text/plain": [
       "<Figure size 432x288 with 1 Axes>"
      ]
     },
     "metadata": {},
     "output_type": "display_data"
    }
   ],
   "source": [
    "#示例代码，作散点图\n",
    "import matplotlib.pyplot as plt\n",
    "#Plot some graphs\n",
    "\n",
    "x = np.random.normal(0, 1, 100)\n",
    "y = np.random.normal(0, 1, 100)\n",
    "\n",
    "plt.plot(x, y, 'bo') \n",
    "plt.ylabel(\"this is the y-axis\")\n",
    "plt.xlabel(\"this is the x-axis\")\n",
    "plt.title(\"Plot of X vs Y\")\n",
    "plt.savefig('Graph.pdf') \n",
    "plt.show() \n"
   ]
  },
  {
   "cell_type": "markdown",
   "metadata": {},
   "source": [
    "### 2.3.4 循环语句将、判断语句介绍"
   ]
  },
  {
   "cell_type": "markdown",
   "metadata": {},
   "source": [
    "**循环语句：for**"
   ]
  },
  {
   "cell_type": "code",
   "execution_count": 80,
   "metadata": {},
   "outputs": [
    {
     "name": "stdout",
     "output_type": "stream",
     "text": [
      "0\n",
      "1\n",
      "2\n",
      "3\n",
      "4\n"
     ]
    }
   ],
   "source": [
    "#这里的range(n)用来控制次数，特别常用,  i 取值为0，1，...,n-1\n",
    "for i in range(5):\n",
    "    print(i)"
   ]
  },
  {
   "cell_type": "code",
   "execution_count": 81,
   "metadata": {},
   "outputs": [
    {
     "name": "stdout",
     "output_type": "stream",
     "text": [
      "3\n",
      "4\n",
      "5\n",
      "6\n"
     ]
    }
   ],
   "source": [
    "#range从3到7，默认间隔为1，包含3不含7\n",
    "for i in range(3,7):\n",
    "    print(i)"
   ]
  },
  {
   "cell_type": "code",
   "execution_count": 82,
   "metadata": {},
   "outputs": [
    {
     "name": "stdout",
     "output_type": "stream",
     "text": [
      "2\n",
      "5\n",
      "8\n",
      "11\n",
      "14\n"
     ]
    }
   ],
   "source": [
    "#range从2到17，以3为间隔，包含2不包含17\n",
    "for i in range(2,17,3):\n",
    "    print(i)"
   ]
  },
  {
   "cell_type": "code",
   "execution_count": 83,
   "metadata": {},
   "outputs": [
    {
     "name": "stdout",
     "output_type": "stream",
     "text": [
      "1\n",
      "4\n",
      "6\n",
      "7\n",
      "11\n"
     ]
    }
   ],
   "source": [
    "#也可以自定义i的取值范围，写成列表形式\n",
    "for i in [1,4,6,7,11]:\n",
    "    print(i)"
   ]
  },
  {
   "cell_type": "code",
   "execution_count": 84,
   "metadata": {},
   "outputs": [
    {
     "data": {
      "text/plain": [
       "[2, 4, 6]"
      ]
     },
     "execution_count": 84,
     "metadata": {},
     "output_type": "execute_result"
    }
   ],
   "source": [
    "#另外还有一种可以生成列表的for循环\n",
    "xx=[2*i for i in range(1,4)]\n",
    "xx"
   ]
  },
  {
   "cell_type": "markdown",
   "metadata": {},
   "source": [
    "**判断语句**"
   ]
  },
  {
   "cell_type": "code",
   "execution_count": 85,
   "metadata": {},
   "outputs": [
    {
     "name": "stdout",
     "output_type": "stream",
     "text": [
      "Input number x:1\n",
      "Input number y:2\n",
      "y is larger.\n"
     ]
    }
   ],
   "source": [
    "#1.比较两个数字的大小\n",
    "    #条件判断，比较两个数字的大小\n",
    "x=int(input(\"Input number x:\"))\n",
    "y=int(input(\"Input number y:\"))\n",
    "if x>y:\n",
    "    print(\"x is larger.\")\n",
    "elif x<y:\n",
    "    print(\"y is larger.\")\n",
    "else:\n",
    "    print('x is equal to y.')\n"
   ]
  },
  {
   "cell_type": "code",
   "execution_count": 86,
   "metadata": {},
   "outputs": [
    {
     "name": "stdout",
     "output_type": "stream",
     "text": [
      "不使用elif语句\n",
      "x is no more than y.\n"
     ]
    }
   ],
   "source": [
    "print(\"不使用elif语句\")\n",
    "if x>y:\n",
    "    print('x is larger.')\n",
    "else:\n",
    "    print('x is no more than y.')\n"
   ]
  },
  {
   "cell_type": "code",
   "execution_count": 88,
   "metadata": {},
   "outputs": [
    {
     "name": "stdout",
     "output_type": "stream",
     "text": [
      "Input a number:1\n",
      "Python\n"
     ]
    }
   ],
   "source": [
    "#2.Python语言实现switch功能\n",
    "#通过定义字典实现多分支\n",
    "mydict={1:'Python',2:'Java',3:'C'}\n",
    "x=int(input('Input a number:'))\n",
    "print(mydict.get(x))"
   ]
  },
  {
   "cell_type": "code",
   "execution_count": 89,
   "metadata": {},
   "outputs": [
    {
     "name": "stdout",
     "output_type": "stream",
     "text": [
      "Input 1st number:1\n",
      "Input 2nd number:2\n",
      "The larger number is  2\n"
     ]
    }
   ],
   "source": [
    "#3.三元表达式\n",
    "'''\n",
    "if/else三元表达式含义：\n",
    "if X:\n",
    "    A=Y\n",
    "else:\n",
    "    A=Z\n",
    "等价于：\n",
    "A=Y if X else Z\n",
    "条件赋值：当条件X为真时A赋Y值，否则赋Z值\n",
    "'''\n",
    "#示例：输入两个数字，将大的数字赋给第三个变量。\n",
    "x=int(input('Input 1st number:'))\n",
    "y=int(input('Input 2nd number:'))\n",
    "z=x if x>y else y\n",
    "print('The larger number is ',z)"
   ]
  },
  {
   "cell_type": "markdown",
   "metadata": {},
   "source": [
    "### 2.3.5 字符串处理"
   ]
  },
  {
   "cell_type": "markdown",
   "metadata": {},
   "source": [
    "在Python语言中，字符串是采用单引号’’或者双引号“”括起来的内容，在Python语言的字符串中采用反斜杠（’\\’）来表示转义字符。"
   ]
  },
  {
   "cell_type": "code",
   "execution_count": 5,
   "metadata": {},
   "outputs": [
    {
     "name": "stdout",
     "output_type": "stream",
     "text": [
      "Hello world!\n",
      "\n",
      "\n",
      "It's my favorite food!\n"
     ]
    }
   ],
   "source": [
    "#任务：字符串变量的赋值\n",
    "str1='Hello world!'\n",
    "str2='It\\'s my favorite food!' #\\'为转义字符，表示'为普通单引号字符\n",
    "print(str1)\n",
    "print('\\n')\n",
    "print(str2)"
   ]
  },
  {
   "cell_type": "markdown",
   "metadata": {},
   "source": [
    "       转义字符\t          描述\n",
    "       \\(在行尾时)\t       续行符\n",
    "       \\\\\t            反斜杠符号\n",
    "       \\'\t            单引号\n",
    "       \\\"\t            双引号\n",
    "       \\a\t            响铃\n",
    "       \\b\t            退格(Backspace)\n",
    "       \\e\t            转义\n",
    "       \\000\t            空\n",
    "       \\n\t            换行\n",
    "       \\v\t            纵向制表符\n",
    "       \\t\t            横向制表符\n",
    "       \\r\t            回车\n",
    "       \\f\t            换页\n",
    "       \\oyy\t            八进制数，yy代表的字符，例如：\\o12代表换行\n",
    "       \\xyy\t            十六进制数，yy代表的字符，例如：\\x0a代表换行\n",
    "       \\other\t          其它的字符以普通格式输出\n"
   ]
  },
  {
   "cell_type": "code",
   "execution_count": 6,
   "metadata": {},
   "outputs": [
    {
     "name": "stdout",
     "output_type": "stream",
     "text": [
      "Stitching of string is:\u0000 Hello world!It's my favorite food!\n",
      "\n",
      "\n",
      "Repeat of string is:\u0000 It's my favorite food!It's my favorite food!It's my favorite food!\n",
      "\n",
      "\n",
      "Part of string is:\u0000 's my\n",
      "\n",
      "\n",
      "Result is:\u0000 True\n"
     ]
    }
   ],
   "source": [
    "#任务：字符串运算\n",
    "print('Stitching of string is:\\000',str1+str2)\n",
    "print('\\n')\n",
    "print('Repeat of string is:\\000',str2*3)\n",
    "print('\\n')\n",
    "print('Part of string is:\\000',str2[2:7])\n",
    "print('\\n')\n",
    "x=True if ('w' in str1) else False\n",
    "print('Result is:\\000',x)"
   ]
  },
  {
   "cell_type": "markdown",
   "metadata": {},
   "source": [
    "Python语言支持的字符串运算\n",
    "操作符\t         描述\n",
    "  +\t          字符串连接\n",
    "  *\t          重复输出同一个字符串\n",
    "  []\t        通过索引获取字符串中的部分字符\n",
    "  [ : ]\t        截取字符串中的部分字符，遵循左闭右开原则\n",
    "   in\t        成员运算符，如果字符串中包含给定的字符，返回 True\n",
    "   not in\t     成员运算符，如果字符串中不包含给定的字符，返回 True\n",
    "    r/R\t        所有的字符串都是直接按照字面的意思来使用，没有转义特殊或不能打印的字符\n",
    "     %\t       格式化字符串的输出\n"
   ]
  },
  {
   "cell_type": "markdown",
   "metadata": {},
   "source": [
    "字符串的split方法"
   ]
  },
  {
   "cell_type": "code",
   "execution_count": 7,
   "metadata": {
    "scrolled": true
   },
   "outputs": [
    {
     "name": "stdout",
     "output_type": "stream",
     "text": [
      "['abc', 'cba']\n"
     ]
    }
   ],
   "source": [
    "a = 'abc,cba'\n",
    "print(a.split(','))"
   ]
  },
  {
   "cell_type": "code",
   "execution_count": 15,
   "metadata": {
    "scrolled": true
   },
   "outputs": [
    {
     "name": "stdout",
     "output_type": "stream",
     "text": [
      "abccba\n"
     ]
    }
   ],
   "source": [
    "#连接list内所有字符串\n",
    "a = ['abc','cba']\n",
    "print(''.join(a))"
   ]
  },
  {
   "cell_type": "markdown",
   "metadata": {},
   "source": [
    "# 3 矩阵运算介绍"
   ]
  },
  {
   "cell_type": "markdown",
   "metadata": {},
   "source": [
    "## 3.1 矩阵的创建"
   ]
  },
  {
   "cell_type": "markdown",
   "metadata": {},
   "source": [
    "Matrix数据结构通常也被称之为数组（Array），在numpy模块中，数组的维数称为秩（rank），例如：一维数组的秩为1，二维数组的秩为2，其它数组的秩以此类推。\n",
    "在numpy模块中，每个线性的数组称为一个轴（axes），例如：二维数组相当于两个一维数组，其中第一个一维数组中的每个元素又是一个一维数组。\n",
    "所以一维数组就是numpy模块中的轴（axes），第一个轴相当于是底层数组，第二个轴是底层数组里的数组。而轴的数量就是秩，也就是数组的维数。"
   ]
  },
  {
   "cell_type": "markdown",
   "metadata": {},
   "source": [
    "### 3.1.1 一维数组及多维数组的创建"
   ]
  },
  {
   "cell_type": "markdown",
   "metadata": {},
   "source": [
    "**一维数组的创建**"
   ]
  },
  {
   "cell_type": "code",
   "execution_count": 90,
   "metadata": {},
   "outputs": [
    {
     "name": "stdout",
     "output_type": "stream",
     "text": [
      "aMtrx is: [0 1 2 3 4 5] \n",
      "\n",
      "bMtrx is: [-2.  -1.5 -1.  -0.5  0.   0.5  1.   1.5  2.   2.5  3.   3.5] \n",
      "\n",
      "cMtrx is: [-0.38783105  0.56877841  1.50184747  0.42867636  0.79206758] \n",
      "\n"
     ]
    }
   ],
   "source": [
    "#任务：创建一维数组创建\n",
    "import numpy as np\n",
    "aMtrx=np.arange(6)\n",
    "bMtrx=np.arange(-2,4,0.5)\n",
    "cMtrx=np.random.randn(5)\n",
    "print('aMtrx is:',aMtrx,'\\n')\n",
    "print('bMtrx is:',bMtrx,'\\n')\n",
    "print('cMtrx is:',cMtrx,'\\n')\n"
   ]
  },
  {
   "cell_type": "markdown",
   "metadata": {},
   "source": [
    "**多维数组的创建**"
   ]
  },
  {
   "cell_type": "code",
   "execution_count": 92,
   "metadata": {},
   "outputs": [
    {
     "name": "stdout",
     "output_type": "stream",
     "text": [
      "aMatrix is: [[1 2 3]\n",
      " [2 5 8]]\n",
      "bMatrix is: [[2.+0.j 4.+0.j 6.+0.j]\n",
      " [3.+0.j 5.+0.j 7.+0.j]]\n",
      "cMatrix is: [array([0, 1, 2, 3]) array([0, 1, 2])]\n"
     ]
    }
   ],
   "source": [
    "#任务：创建多维数组\n",
    "aMtrx=np.array([[1,2,3],[2,5,8]])\n",
    "bMtrx=np.array(((2,4,6),[3,5,7]),dtype=complex)\n",
    "cMtrx=np.array([np.arange(4),np.arange(3)])\n",
    "print('aMatrix is:',aMtrx)\n",
    "print('bMatrix is:',bMtrx)\n",
    "print('cMatrix is:',cMtrx)"
   ]
  },
  {
   "cell_type": "markdown",
   "metadata": {},
   "source": [
    "说明：从程序执行的结果可以看到，numpy模块中的array方法可以用来创建多维数组，返回的数据类型为数组对象。在创建数组时，还可以通过dytpe参数来指定要创建的数组中数据的类型。"
   ]
  },
  {
   "cell_type": "markdown",
   "metadata": {},
   "source": [
    "### 3.1.2 利用内置函数创建"
   ]
  },
  {
   "cell_type": "markdown",
   "metadata": {},
   "source": [
    "**Python语言自带的数组创建方法**\n",
    "\n",
    "在Python语言中还自带了很多数组创建的方法，可以创建带有特定属性的数组对象。"
   ]
  },
  {
   "cell_type": "code",
   "execution_count": 94,
   "metadata": {},
   "outputs": [
    {
     "name": "stdout",
     "output_type": "stream",
     "text": [
      "Zero matrix is:\n",
      " [[0. 0. 0. 0.]\n",
      " [0. 0. 0. 0.]\n",
      " [0. 0. 0. 0.]]\n"
     ]
    }
   ],
   "source": [
    "#任务：创建所有元素均为0的数组。\n",
    "tMtrx=np.zeros([3,4])\n",
    "print('Zero matrix is:\\n',tMtrx)"
   ]
  },
  {
   "cell_type": "code",
   "execution_count": 95,
   "metadata": {},
   "outputs": [
    {
     "name": "stdout",
     "output_type": "stream",
     "text": [
      "Zero matrix is:\n",
      " [[1. 1. 1. 1.]\n",
      " [1. 1. 1. 1.]\n",
      " [1. 1. 1. 1.]]\n"
     ]
    }
   ],
   "source": [
    "#任务：创建所有元素均为1的数组。\n",
    "tMtrx=np.ones([3,4])\n",
    "print('Zero matrix is:\\n',tMtrx)"
   ]
  },
  {
   "cell_type": "code",
   "execution_count": 96,
   "metadata": {},
   "outputs": [
    {
     "name": "stdout",
     "output_type": "stream",
     "text": [
      "Isometric matrix is:\n",
      " [0 1 2 3 4 5]\n",
      "Isometric matrix is:\n",
      " [2.  2.6 3.2 3.8 4.4 5.  5.6 6.2 6.8 7.4]\n"
     ]
    }
   ],
   "source": [
    "#任务：创建所有元素均为等差数列的数组，可以采用arange方法.\n",
    "tMtrx=np.arange(6)\n",
    "print('Isometric matrix is:\\n',tMtrx)\n",
    "tMtrx=np.arange(2,8,0.6)\n",
    "print('Isometric matrix is:\\n',tMtrx)"
   ]
  },
  {
   "cell_type": "code",
   "execution_count": 97,
   "metadata": {},
   "outputs": [
    {
     "name": "stdout",
     "output_type": "stream",
     "text": [
      "Random matrix is:\n",
      " [[0.36890042 0.76257415 0.42001625 0.24931823]\n",
      " [0.08380181 0.20445136 0.4457315  0.56285033]\n",
      " [0.78356022 0.74070257 0.2097777  0.28964044]]\n",
      "Random matrix is:\n",
      " [[ 2.17484884 -0.63612559 -1.05548923]\n",
      " [ 0.63714951 -1.9019081  -0.54732989]]\n",
      "Random matrix is:\n",
      " [[ 0.57571479  1.56248795  1.37292081]\n",
      " [-4.35616999 -2.90504306  0.31452072]]\n",
      "Random matrix is:\n",
      " [[4 3 5]\n",
      " [3 2 4]]\n"
     ]
    }
   ],
   "source": [
    "import numpy as np\n",
    "#任务：创建随机数构成的数组，可以采用random方法。\n",
    "tMtrx=np.random.rand(3,4)  #在[0,1]之间均匀分布的随机样本\n",
    "print('Random matrix is:\\n',tMtrx)\n",
    "tMtrx=np.random.randn(2,3)   #符合标准正态分布N(0,1)\n",
    "print('Random matrix is:\\n',tMtrx)\n",
    "tMtrx=3.1*np.random.randn(2,3)+0.1   #符合正态分布N(3.1,0.1)\n",
    "print('Random matrix is:\\n',tMtrx)\n",
    "tMtrx=np.random.randint(low=2,high=8,size=(2,3))  #生成在半开半闭区间[low,high)上离散均匀分布的整数值\n",
    "print('Random matrix is:\\n',tMtrx)"
   ]
  },
  {
   "cell_type": "markdown",
   "metadata": {},
   "source": [
    "### 3.1.3 reshape创建"
   ]
  },
  {
   "cell_type": "markdown",
   "metadata": {},
   "source": [
    "**改变数组形状**\n",
    "\n",
    "在Python语言中，数组被创建后还可以采用reshape方法来改变原有数组的形状。"
   ]
  },
  {
   "cell_type": "code",
   "execution_count": 100,
   "metadata": {},
   "outputs": [
    {
     "name": "stdout",
     "output_type": "stream",
     "text": [
      "Orig matrix is: [2.  2.6 3.2 3.8 4.4 5.  5.6 6.2 6.8 7.4]\n",
      "Reshape matrix is:\n",
      " [[2.  2.6 3.2 3.8 4.4]\n",
      " [5.  5.6 6.2 6.8 7.4]]\n"
     ]
    }
   ],
   "source": [
    "#任务：改变数组形状\n",
    "\n",
    "tMtrx=np.arange(2,8,.6)\n",
    "print('Orig matrix is:',tMtrx)\n",
    "tMtrx=np.arange(2,8,.6).reshape(2,5)\n",
    "print('Reshape matrix is:\\n',tMtrx)"
   ]
  },
  {
   "cell_type": "markdown",
   "metadata": {},
   "source": [
    "## 3.2 矩阵操作"
   ]
  },
  {
   "cell_type": "markdown",
   "metadata": {},
   "source": [
    "### 3.2.1 矩阵切片与取值"
   ]
  },
  {
   "cell_type": "code",
   "execution_count": 102,
   "metadata": {},
   "outputs": [
    {
     "name": "stdout",
     "output_type": "stream",
     "text": [
      "Matrix B is:\n",
      " [[ 2  3  4]\n",
      " [ 5  6  7]\n",
      " [ 8  9 10]]\n",
      "Matrix B[0,1] is:\n",
      " 3\n",
      "Matrix B[-2,-1] is:\n",
      " 7\n",
      "Matrix B[-3,-2] is:\n",
      " 3\n",
      "Matrix B[0:1,] is:\n",
      " [[2 3 4]]\n",
      "Matrix B[1:3,] is:\n",
      " [[ 5  6  7]\n",
      " [ 8  9 10]]\n",
      "Matrix B[:,1] is:\n",
      " [3 6 9]\n",
      "Matrix B[:,2] is:\n",
      " [ 4  7 10]\n",
      "Matrix B[:,0:2] is:\n",
      " [[2 3]\n",
      " [5 6]\n",
      " [8 9]]\n"
     ]
    }
   ],
   "source": [
    "#任务：矩阵的切片操作\n",
    "B=np.arange(2,11,1).reshape(3,3)\n",
    "print('Matrix B is:\\n',B)\n",
    "print('Matrix B[0,1] is:\\n',B[0,1])   #点查询\n",
    "print('Matrix B[-2,-1] is:\\n',B[-2,-1])   #倒序查询\n",
    "print('Matrix B[-3,-2] is:\\n',B[-3,-2])\n",
    "print('Matrix B[0:1,] is:\\n',B[0:1,])  #行切片\n",
    "print('Matrix B[1:3,] is:\\n',B[1:3,])\n",
    "print('Matrix B[:,1] is:\\n',B[:,1])   #列切片\n",
    "print('Matrix B[:,2] is:\\n',B[:,2])\n",
    "print('Matrix B[:,0:2] is:\\n',B[:,0:2])  #切块"
   ]
  },
  {
   "cell_type": "code",
   "execution_count": 103,
   "metadata": {},
   "outputs": [
    {
     "name": "stdout",
     "output_type": "stream",
     "text": [
      "aMtrx is:\n",
      " [[list([0, 1, 2, 4]) list([3, 5, 7])]\n",
      " [list([2.3, 4.6, 7]) list([16, 77, 89])]]\n",
      "aMtrx[0] is:\n",
      " [list([0, 1, 2, 4]) list([3, 5, 7])]\n",
      "aMtrx[0][1] is:\n",
      " [3, 5, 7]\n",
      "aMtrx[0][1][2] is:\n",
      " 7\n"
     ]
    }
   ],
   "source": [
    "#任务：数组的取值示例。\n",
    "aMtrx=np.array([[[0,1,2,4],[3,5,7]],[[2.3,4.6,7],[16,77,89]]])\n",
    "print('aMtrx is:\\n',aMtrx)\n",
    "print('aMtrx[0] is:\\n',aMtrx[0])\n",
    "print('aMtrx[0][1] is:\\n',aMtrx[0][1])\n",
    "print('aMtrx[0][1][2] is:\\n',aMtrx[0][1][2])"
   ]
  },
  {
   "cell_type": "markdown",
   "metadata": {},
   "source": [
    "### 3.2.2 矩阵的元素运算及内积"
   ]
  },
  {
   "cell_type": "code",
   "execution_count": 105,
   "metadata": {},
   "outputs": [
    {
     "name": "stdout",
     "output_type": "stream",
     "text": [
      "aMtrx is: [0 1 2 3 4]\n",
      "aMtrx+4 is: [4 5 6 7 8]\n",
      "aMtrx-2 is: [-2 -1  0  1  2]\n",
      "aMtrx*3 is: [ 0  3  6  9 12]\n",
      "aMtrx/1.1 is: [0.           0.9090909091 1.8181818182 2.7272727273 3.6363636364]\n",
      "bMtrx is: [2 3 4 5 6]\n",
      "aMtrx+bMtrx is: [ 2  4  6  8 10]\n",
      "aMtrx-bMtrx is: [-2 -2 -2 -2 -2]\n",
      "aMtrx*bMtrx is: [ 0  3  8 15 24]\n",
      "aMtrx/bMtrx is: [0.           0.3333333333 0.5          0.6          0.6666666667]\n",
      "aMtrx*cos(bMtrx) is: [-0.           -0.9899924966 -1.3072872417  0.8509865564  3.8406811466]\n",
      "aMtrx+bMtrx^2 is: [ 4 10 18 28 40]\n"
     ]
    }
   ],
   "source": [
    "#任务：数组运算——元素级的算术运算\n",
    "aMtrx=np.arange(5)\n",
    "bMtrx=np.arange(2,7)\n",
    "print('aMtrx is:',aMtrx)\n",
    "print('aMtrx+4 is:',aMtrx+4)\n",
    "print('aMtrx-2 is:',aMtrx-2)\n",
    "print('aMtrx*3 is:',aMtrx*3)\n",
    "print('aMtrx/1.1 is:',aMtrx/1.1)\n",
    "print('bMtrx is:',bMtrx)\n",
    "print('aMtrx+bMtrx is:',aMtrx+bMtrx)\n",
    "print('aMtrx-bMtrx is:',aMtrx-bMtrx)\n",
    "print('aMtrx*bMtrx is:',aMtrx*bMtrx)\n",
    "print('aMtrx/bMtrx is:',aMtrx/bMtrx)\n",
    "print('aMtrx*cos(bMtrx) is:',aMtrx*np.cos(bMtrx))\n",
    "print('aMtrx+bMtrx^2 is:',aMtrx+np.power(bMtrx,2))"
   ]
  },
  {
   "cell_type": "code",
   "execution_count": 106,
   "metadata": {},
   "outputs": [
    {
     "name": "stdout",
     "output_type": "stream",
     "text": [
      "Matrix A is: [[ 0  1  2  3]\n",
      " [ 4  5  6  7]\n",
      " [ 8  9 10 11]\n",
      " [12 13 14 15]]\n",
      "Matrix B is: [0 1 2 3]\n",
      "Matrix A+B= [[ 0  2  4  6]\n",
      " [ 4  6  8 10]\n",
      " [ 8 10 12 14]\n",
      " [12 14 16 18]]\n",
      "Matrix A is: [[[0 1]]\n",
      "\n",
      " [[2 3]]\n",
      "\n",
      " [[4 5]]]\n",
      "Matrix B is: [[[0]\n",
      "  [1]]\n",
      "\n",
      " [[2]\n",
      "  [3]]\n",
      "\n",
      " [[4]\n",
      "  [5]]]\n",
      "Matrix A+B= [[[ 0  1]\n",
      "  [ 1  2]]\n",
      "\n",
      " [[ 4  5]\n",
      "  [ 5  6]]\n",
      "\n",
      " [[ 8  9]\n",
      "  [ 9 10]]]\n"
     ]
    }
   ],
   "source": [
    "#任务：广播运算\n",
    "A=np.arange(16).reshape(4,4)\n",
    "B=np.arange(4)\n",
    "print('Matrix A is:',A)\n",
    "print('Matrix B is:',B)\n",
    "print('Matrix A+B=',A+B)\n",
    "A=np.arange(6).reshape(3,1,2)\n",
    "B=np.arange(6).reshape(3,2,1)\n",
    "print('Matrix A is:',A)\n",
    "print('Matrix B is:',B)\n",
    "print('Matrix A+B=',A+B)"
   ]
  },
  {
   "cell_type": "markdown",
   "metadata": {},
   "source": [
    "Python语言中，数组的运算则是通过dot函数来实现的。"
   ]
  },
  {
   "cell_type": "code",
   "execution_count": 107,
   "metadata": {},
   "outputs": [
    {
     "name": "stdout",
     "output_type": "stream",
     "text": [
      "Matrix A is:\n",
      " [[0 1 2]\n",
      " [3 4 5]\n",
      " [6 7 8]]\n",
      "Matrix B is:\n",
      " [[ 2  3  4]\n",
      " [ 5  6  7]\n",
      " [ 8  9 10]]\n",
      "A dot B is: [[ 21  24  27]\n",
      " [ 66  78  90]\n",
      " [111 132 153]]\n",
      "A dot B is [[ 21  24  27]\n",
      " [ 66  78  90]\n",
      " [111 132 153]]\n",
      "B dot A is [[ 33  42  51]\n",
      " [ 60  78  96]\n",
      " [ 87 114 141]]\n"
     ]
    }
   ],
   "source": [
    "#任务：数组运算，求两数组的內积。\n",
    "A=np.arange(0,9).reshape(3,3)\n",
    "B=np.arange(2,11).reshape(3,3)\n",
    "print('Matrix A is:\\n',A)\n",
    "print('Matrix B is:\\n',B)\n",
    "print('A dot B is:',np.dot(A,B))\n",
    "print('A dot B is',A.dot(B))\n",
    "print('B dot A is',B.dot(A))"
   ]
  },
  {
   "cell_type": "code",
   "execution_count": 108,
   "metadata": {},
   "outputs": [
    {
     "name": "stdout",
     "output_type": "stream",
     "text": [
      "Matrix B is:\n",
      " [[ 2  3  4]\n",
      " [ 5  6  7]\n",
      " [ 8  9 10]]\n",
      "Transpose of B is:\n",
      " [[ 2  5  8]\n",
      " [ 3  6  9]\n",
      " [ 4  7 10]]\n",
      "Ravel of B is:\n",
      " [ 2  3  4  5  6  7  8  9 10]\n"
     ]
    }
   ],
   "source": [
    "#任务：矩阵转置和平滑操作\n",
    "print('Matrix B is:\\n',B)\n",
    "print('Transpose of B is:\\n',B.transpose())  #矩阵转置\n",
    "print('Ravel of B is:\\n',B.ravel())   #矩阵线性化"
   ]
  },
  {
   "cell_type": "markdown",
   "metadata": {},
   "source": [
    "_______________________________________________________________\n"
   ]
  },
  {
   "cell_type": "code",
   "execution_count": null,
   "metadata": {},
   "outputs": [],
   "source": [
    "# -*- coding: utf-8 -*-\n",
    "\n",
    "import numpy as np\n",
    " \n",
    " \n",
    "#定义属性值\n",
    "Outlook = [\"Sunny\",\"Overcast\",\"Rain\"]\n",
    "Temperature = [\"Hot\",\"Mild\",\"Cool\"]\n",
    "Humidity = [\"High\",\"Nomal\"]\n",
    "Wind = [\"Strong\",\"Weak\"]\n",
    "Attri=[]\n",
    "Attri.append(Outlook)\n",
    "Attri.append(Temperature)\n",
    "Attri.append(Humidity)\n",
    "Attri.append(Wind)\n",
    " \n",
    "#数据集\n",
    "my_data = []\n",
    "with open('data.txt', 'r') as data_txt:\n",
    "    data = data_txt.readlines()\n",
    "    for line in data:\n",
    "        temp = line.split(',')\n",
    "        my_data.append([temp[0],temp[1],temp[2],temp[3],int(temp[4])])\n",
    "    my_data = np.array(my_data)\n",
    "data_txt.close()\n",
    " \n",
    "#初始化S和G集合\n",
    "S = [[\"#\",\"#\",\"#\",\"#\"]]\n",
    "G = [[\"?\",\"?\",\"?\",\"?\"]]\n",
    " \n",
    "#判断实例是否属于某一概念\n",
    "def is_range (d1,d2):\n",
    "    flag = 1\n",
    "    for i in range(4):\n",
    "        if str(d2[i])!='?':\n",
    "            if d1[i]!=d2[i]:\n",
    "                flag = 0\n",
    "                break\n",
    "    return flag\n",
    " \n",
    "#寻找S集的一般泛化式（将S一般化）\n",
    "def find_s_min(data,S):\n",
    "    min_s=[]\n",
    "    s1=[\"#\",\"#\",\"#\",\"#\"]\n",
    "    for j in range(4):\n",
    "        if S[j]=='#':\n",
    "            s1[j]=data[j]\n",
    "        elif S[j]=='?':\n",
    "            s1[j]=S[j]\n",
    "        else:\n",
    "            if S[j]!=data[j] :\n",
    "                s1[j]='?'\n",
    "            else:\n",
    "                s1[j]=data[j]\n",
    "    min_s.append(s1)\n",
    "    return min_s\n",
    " \n",
    "#寻找S集的一般泛化式（将G特殊化）\n",
    "def find_g_min(data,S):\n",
    "    min_g=[]\n",
    "    for j in range(4):\n",
    "        if str(S[j])=='?' or str(data[j])==str(S[j]) :\n",
    "            for i in range(len(Attri[j])):\n",
    "                if str(Attri[j][i])!=str(data[j]):\n",
    "                    s1 = [\"?\",\"?\",\"?\",\"?\"]\n",
    "                    for k in range(4):\n",
    "                        if k==j:\n",
    "                            s1[k]=Attri[j][i]\n",
    "                        else:\n",
    "                            s1[k]=S[k]\n",
    "                    min_g.append(s1)\n",
    "            \n",
    "    return min_g\n",
    " \n",
    "#判断最小泛化函数是否可以加入S集合中\n",
    "def vertificate_smin(S,G,min_s):\n",
    "    flag = 1\n",
    "    for i in range(len(min_s)) :\n",
    "        #若min_s中包含S集合的某个概念 则删除该概念 并返回0\n",
    "        for j in range(len(S)):\n",
    "            if is_range(S[j],min_s[i])==1 :\n",
    "                #del S[j]\n",
    "                flag = 0\n",
    "                break\n",
    "        #若min_S比G集合一般 则返回0\n",
    "        for j in range(len(G)):\n",
    "            if is_range(min_s[i],G[j])==1:\n",
    "                flag = 1\n",
    "                break\n",
    "            else:\n",
    "                flag = 0\n",
    "        if flag==1:\n",
    "            S.append(min_s[i])\n",
    "    \n",
    "#判断最小泛化函数是否可以加入G集合中\n",
    "def vertificate_gmin(S,G,min_g):\n",
    "    flag = 1\n",
    "    for i in range(len(min_g)):\n",
    "        #若G集合包含该概念 则退出\n",
    "        for j in range(len(G)):\n",
    "            if is_range(G[j],min_g[i])==1:\n",
    "                flag = 0\n",
    "                break\n",
    "        #判断S是否比G更特殊\n",
    "        for j in range(len(S)):\n",
    "            if is_range(S[j],min_g[i])==1 or str(S[j])=='#':\n",
    "                flag = 1\n",
    "        if flag==1:\n",
    "           G.append(min_g[i])            \n",
    "    \n",
    "def Candidate(S,Q,data):\n",
    "    if int(data[4]) == 1:\n",
    "        \n",
    "        #极大一般边界\n",
    "        for i in range(len(G)):\n",
    "            #若G中有不符合data的集合，则移除\n",
    "            #print(str(i)+\":\"+str(len(G)))\n",
    "            if i<len(G) and is_range(data,G[i])==0:\n",
    "                del G[i]\n",
    "            else :\n",
    "                break\n",
    "        #极大特殊边界\n",
    "        for i in range(len(S)):\n",
    "            #若S中有不符合data的概念s，则将s移除并将符合条件的最小一般泛化式放入\n",
    "            if i<len(G) and is_range(data,S[i])==0:\n",
    "                \n",
    "                min_s = find_s_min(data,S[i])\n",
    "                vertificate_smin(S,G,min_s)\n",
    "                del S[i]\n",
    "                \n",
    "            else:\n",
    "                break\n",
    " \n",
    "    else:\n",
    "        \n",
    "        #极大特殊边界\n",
    "        for i in range(len(S)):\n",
    "            #若S中有符合data的集合，则移除\n",
    "            if is_range(data,S[i])!=0:\n",
    "                del S[i]\n",
    "        #极大一般边界\n",
    "        for i in range(len(G)):\n",
    "            #若G中有不符合data的概念s，则将s移除并将符合条件的最小一般泛化式放入\n",
    "            if is_range(data,G[i])!=0:\n",
    "                s = G[i]\n",
    "                del G[i]\n",
    "                min_g = find_g_min(data,s)\n",
    "                vertificate_gmin(S,G,min_g)\n",
    "                #print(\"Glen\"+str(len(G)))\n",
    "                \n",
    "if  __name__    ==   '__main__':\n",
    "    for i in range(len(my_data)):\n",
    "        print(\"第\"+str(i+1)+\"个示例：\"+str(my_data[i]))\n",
    "        temp = Candidate(S,G,my_data[i])\n",
    "        print(\"S集合：\"+str(S))\n",
    "        print(\"G集合：\"+str(G))\n",
    "        print(\"________\"*15)"
   ]
  }
 ],
 "metadata": {
  "kernelspec": {
   "display_name": "Python 3",
   "language": "python",
   "name": "python3"
  },
  "language_info": {
   "codemirror_mode": {
    "name": "ipython",
    "version": 3
   },
   "file_extension": ".py",
   "mimetype": "text/x-python",
   "name": "python",
   "nbconvert_exporter": "python",
   "pygments_lexer": "ipython3",
   "version": "3.6.5"
  },
  "toc": {
   "base_numbering": 1,
   "nav_menu": {},
   "number_sections": true,
   "sideBar": true,
   "skip_h1_title": false,
   "title_cell": "Table of Contents",
   "title_sidebar": "Contents",
   "toc_cell": true,
   "toc_position": {
    "height": "calc(100% - 180px)",
    "left": "10px",
    "top": "150px",
    "width": "227px"
   },
   "toc_section_display": true,
   "toc_window_display": true
  }
 },
 "nbformat": 4,
 "nbformat_minor": 2
}
