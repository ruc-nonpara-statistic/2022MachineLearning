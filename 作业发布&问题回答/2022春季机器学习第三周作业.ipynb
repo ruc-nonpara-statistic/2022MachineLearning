{
 "cells": [
  {
   "cell_type": "markdown",
   "metadata": {
    "toc": true
   },
   "source": [
    "<h1>Table of Contents<span class=\"tocSkip\"></span></h1>\n",
    "<div class=\"toc\"><ul class=\"toc-item\"><li><span><a href=\"#第三周作业\" data-toc-modified-id=\"第三周作业-1\"><span class=\"toc-item-num\">1&nbsp;&nbsp;</span>第三周作业</a></span><ul class=\"toc-item\"><li><span><a href=\"#对于数据集auto，进行以下任务\" data-toc-modified-id=\"对于数据集auto，进行以下任务-1.1\"><span class=\"toc-item-num\">1.1&nbsp;&nbsp;</span>对于数据集auto，进行以下任务</a></span></li><li><span><a href=\"#《统计学习导论》-第5题&amp;第6题\" data-toc-modified-id=\"《统计学习导论》-第5题&amp;第6题-1.2\"><span class=\"toc-item-num\">1.2&nbsp;&nbsp;</span>《统计学习导论》 第5题&amp;第6题</a></span></li></ul></li></ul></div>"
   ]
  },
  {
   "cell_type": "markdown",
   "metadata": {},
   "source": [
    "# 第三周作业\n"
   ]
  },
  {
   "cell_type": "markdown",
   "metadata": {},
   "source": [
    "## 对于数据集auto，进行以下任务"
   ]
  },
  {
   "cell_type": "markdown",
   "metadata": {},
   "source": [
    "* (a) 将数据集按照留出法分为训练集（比例0.8）和测试集（比例0.2），对于函数$mpg = 40 - 0.15 * horsepower$，编写程序估计平方损失下的泛化误差，设定实验次数为10次，并计算平均后的泛化误差"
   ]
  },
  {
   "cell_type": "markdown",
   "metadata": {},
   "source": [
    "* (b) 将数据集按照留p交叉验证的方法提取测试集，$K = 20$划分采取无放回抽样，$p = 10$，对于函数$mpg = 40 = - 0.15 * horsepower$,编写程序计算平方损失下的泛化误差，并对ab结果进行比较"
   ]
  },
  {
   "cell_type": "markdown",
   "metadata": {},
   "source": [
    "ps:有精力的同学可以画散点图观察mpg与horsepower的关系"
   ]
  },
  {
   "cell_type": "markdown",
   "metadata": {},
   "source": [
    "## 《统计学习导论》 第5题&第6题"
   ]
  },
  {
   "cell_type": "markdown",
   "metadata": {},
   "source": [
    "* 第5题"
   ]
  },
  {
   "cell_type": "markdown",
   "metadata": {},
   "source": [
    "What are the advantages and disadvantages of a very flexible (versus a less flexible) approach for regression or classification? Under what circumstances might a more flexible approach be preferred to a less flexible approach? When might a less flexible approach be preferred?"
   ]
  },
  {
   "cell_type": "markdown",
   "metadata": {},
   "source": [
    "* 第6题"
   ]
  },
  {
   "cell_type": "markdown",
   "metadata": {},
   "source": [
    "\n",
    "\n",
    "\n",
    "Describe the differences between a parametric and a non-parametric statistical learning approach. What are the advantages of a parametric approach to regression or lassification (as opposed to a nonparametric approach)? What are its disadvantages?"
   ]
  }
 ],
 "metadata": {
  "kernelspec": {
   "display_name": "Python 3",
   "language": "python",
   "name": "python3"
  },
  "language_info": {
   "codemirror_mode": {
    "name": "ipython",
    "version": 3
   },
   "file_extension": ".py",
   "mimetype": "text/x-python",
   "name": "python",
   "nbconvert_exporter": "python",
   "pygments_lexer": "ipython3",
   "version": "3.6.5"
  },
  "toc": {
   "base_numbering": 1,
   "nav_menu": {},
   "number_sections": true,
   "sideBar": true,
   "skip_h1_title": false,
   "title_cell": "Table of Contents",
   "title_sidebar": "Contents",
   "toc_cell": true,
   "toc_position": {},
   "toc_section_display": true,
   "toc_window_display": true
  }
 },
 "nbformat": 4,
 "nbformat_minor": 2
}
