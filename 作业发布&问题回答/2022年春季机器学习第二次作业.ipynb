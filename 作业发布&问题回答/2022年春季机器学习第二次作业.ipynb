{
 "cells": [
  {
   "cell_type": "markdown",
   "metadata": {
    "toc": true
   },
   "source": [
    "<h1>Table of Contents<span class=\"tocSkip\"></span></h1>\n",
    "<div class=\"toc\"><ul class=\"toc-item\"><li><span><a href=\"#1-python-基础与编程\" data-toc-modified-id=\"1-python-基础与编程-1\"><span class=\"toc-item-num\">1&nbsp;&nbsp;</span>1 python 基础与编程</a></span><ul class=\"toc-item\"><li><span><a href=\"#题目1.1\" data-toc-modified-id=\"题目1.1-1.1\"><span class=\"toc-item-num\">1.1&nbsp;&nbsp;</span>题目1.1</a></span></li><li><span><a href=\"#题目1.2\" data-toc-modified-id=\"题目1.2-1.2\"><span class=\"toc-item-num\">1.2&nbsp;&nbsp;</span>题目1.2</a></span></li><li><span><a href=\"#题目1.3\" data-toc-modified-id=\"题目1.3-1.3\"><span class=\"toc-item-num\">1.3&nbsp;&nbsp;</span>题目1.3</a></span></li><li><span><a href=\"#题目1.4\" data-toc-modified-id=\"题目1.4-1.4\"><span class=\"toc-item-num\">1.4&nbsp;&nbsp;</span>题目1.4</a></span></li><li><span><a href=\"#题目1.5\" data-toc-modified-id=\"题目1.5-1.5\"><span class=\"toc-item-num\">1.5&nbsp;&nbsp;</span>题目1.5</a></span></li><li><span><a href=\"#题目1.6\" data-toc-modified-id=\"题目1.6-1.6\"><span class=\"toc-item-num\">1.6&nbsp;&nbsp;</span>题目1.6</a></span></li></ul></li><li><span><a href=\"#2-候选消除\" data-toc-modified-id=\"2-候选消除-2\"><span class=\"toc-item-num\">2&nbsp;&nbsp;</span>2 候选消除</a></span><ul class=\"toc-item\"><li><span><a href=\"#题目2.1\" data-toc-modified-id=\"题目2.1-2.1\"><span class=\"toc-item-num\">2.1&nbsp;&nbsp;</span>题目2.1</a></span></li><li><span><a href=\"#题目2.2\" data-toc-modified-id=\"题目2.2-2.2\"><span class=\"toc-item-num\">2.2&nbsp;&nbsp;</span>题目2.2</a></span></li></ul></li></ul></div>"
   ]
  },
  {
   "cell_type": "markdown",
   "metadata": {},
   "source": [
    "# 1 python 基础与编程"
   ]
  },
  {
   "cell_type": "markdown",
   "metadata": {},
   "source": [
    "##  题目1.1 "
   ]
  },
  {
   "cell_type": "markdown",
   "metadata": {},
   "source": [
    "&emsp;&emsp; 使用input输入一个字符串$x_1,x_2,x_3,\\cdots,x_{10}$，使用split分解后将其赋值到一个array数组，将数组前三个元素赋值给新的数组$a_1$,剩下的元素赋值给数组$b_1$，并求出数组$a_1$的总和"
   ]
  },
  {
   "cell_type": "markdown",
   "metadata": {},
   "source": [
    "## 题目1.2"
   ]
  },
  {
   "cell_type": "markdown",
   "metadata": {},
   "source": [
    "&emsp;&emsp;使用pandas读入Auto.csv数据,并进行以下筛选：\n",
    "\n",
    "* 选择出前30条样本的mpg、cylinders、displacement、year、origin信息\n",
    "* 选择出mpg大于等于35并且cylinders大于等于6的样本"
   ]
  },
  {
   "cell_type": "markdown",
   "metadata": {},
   "source": [
    "## 题目1.3"
   ]
  },
  {
   "cell_type": "markdown",
   "metadata": {},
   "source": [
    "&emsp;&emsp;假设$x= (x_1,x_2,\\cdots,x_n)$是一维向量，令$p_i=\\sum_{j=i+1}^n I(x_i<x_j),i = 1,2,\\cdots,n-1$,$q_i=\\sum_{j=i+1}^n I(x_i>x_j),i = 1,2,\\cdots,n-1$,$I(x_i>x_j)$是示性函数。编写程序，计算当$n = 5$时$\\sum_i^{n-1}(p_i-q_i)$的值，对由x构成的所有可能排列计算上面的结果，判断所有可能结果的分布。"
   ]
  },
  {
   "cell_type": "markdown",
   "metadata": {},
   "source": [
    "## 题目1.4"
   ]
  },
  {
   "cell_type": "markdown",
   "metadata": {},
   "source": [
    "&emsp;&emsp;从$0至2\\pi$，每间隔0.2，求解以下函数的值：$$\\frac{sin(x)}{cos(x)+x}$$"
   ]
  },
  {
   "cell_type": "markdown",
   "metadata": {},
   "source": [
    "## 题目1.5"
   ]
  },
  {
   "cell_type": "markdown",
   "metadata": {},
   "source": [
    "&emsp;&emsp;编写函数实现以下功能：\n",
    "\n",
    "（1）将数组a中的n个数按相反顺序存放\n",
    "\n",
    "（2）向量a与向量b等长，按$a_1,b_1,a_2,b_2,\\cdots$顺序将两个向量对应位置的数值交错排列，形成新向量ab"
   ]
  },
  {
   "cell_type": "markdown",
   "metadata": {},
   "source": [
    "ps：关于自定义函数编写，可以参考https://blog.csdn.net/qdPython/article/details/115323071"
   ]
  },
  {
   "cell_type": "markdown",
   "metadata": {},
   "source": [
    "## 题目1.6\n"
   ]
  },
  {
   "cell_type": "markdown",
   "metadata": {},
   "source": [
    "&emsp;&emsp;生成长度为100的均值为3.5，方差为2的正态分布随机数序列$\\{x_n\\}$和长度为100的均值为0，方差为1的正态分布随机数序列$\\{\\epsilon_n\\}$,计算新的序列$\\{y_n\\}$,其中$y_i = x_i+\\epsilon_i,i= 1,2,\\cdots,n$,请完成以下任务：\n",
    "\n",
    "* 绘制y对x的散点图，并计算y和x的相关系数\n",
    "* 分别绘制y和x的直方图"
   ]
  },
  {
   "cell_type": "markdown",
   "metadata": {},
   "source": [
    "# 2 候选消除"
   ]
  },
  {
   "cell_type": "markdown",
   "metadata": {},
   "source": [
    "&emsp;&emsp;现由一个天气数据集(6 * 5),其中前四列为属性，最后一列为lable，请使用候选消除法及find_s方法编写程序，输出最后的假设空间（建议每步输出），并**进行比较**\n",
    "\n",
    "\n",
    "\n",
    "候选消除及find_s参考地址：https://www.cnblogs.com/lufangtao/archive/2013/05/24/3086935.html\n",
    "https://blog.csdn.net/weixin_33862041/article/details/94636023"
   ]
  },
  {
   "cell_type": "markdown",
   "metadata": {},
   "source": [
    "## 题目2.1"
   ]
  },
  {
   "cell_type": "markdown",
   "metadata": {},
   "source": [
    "&emsp;&emsp;使用find_s算法输出所有假设"
   ]
  },
  {
   "cell_type": "markdown",
   "metadata": {},
   "source": [
    "## 题目2.2"
   ]
  },
  {
   "cell_type": "markdown",
   "metadata": {},
   "source": [
    "&emsp;&emsp;使用候选消除算法输出所有假设"
   ]
  }
 ],
 "metadata": {
  "kernelspec": {
   "display_name": "Python 3",
   "language": "python",
   "name": "python3"
  },
  "language_info": {
   "codemirror_mode": {
    "name": "ipython",
    "version": 3
   },
   "file_extension": ".py",
   "mimetype": "text/x-python",
   "name": "python",
   "nbconvert_exporter": "python",
   "pygments_lexer": "ipython3",
   "version": "3.6.5"
  },
  "toc": {
   "base_numbering": 1,
   "nav_menu": {},
   "number_sections": true,
   "sideBar": true,
   "skip_h1_title": false,
   "title_cell": "Table of Contents",
   "title_sidebar": "Contents",
   "toc_cell": true,
   "toc_position": {
    "height": "calc(100% - 180px)",
    "left": "10px",
    "top": "150px",
    "width": "165px"
   },
   "toc_section_display": true,
   "toc_window_display": true
  }
 },
 "nbformat": 4,
 "nbformat_minor": 2
}
